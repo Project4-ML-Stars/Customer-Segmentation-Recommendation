{
 "cells": [
  {
   "cell_type": "markdown",
   "metadata": {
    "id": "RBZ8tRzC2vtp"
   },
   "source": [
    "# Project 4 - Customer Segmentation and Recommendation"
   ]
  },
  {
   "cell_type": "markdown",
   "metadata": {},
   "source": [
    "Project Source: https://www.kaggle.com/code/farzadnekouei/customer-segmentation-recommendation-system"
   ]
  },
  {
   "cell_type": "markdown",
   "metadata": {},
   "source": [
    "In this project, we explore retail transactional data, transform to customer-centric features, segment the customers and make campaign recommendations for marketing teams and product recommendations to customers to boost the sales of the business."
   ]
  },
  {
   "cell_type": "code",
   "execution_count": 1,
   "metadata": {},
   "outputs": [],
   "source": [
    "# Import the required libraries and dependencies\n",
    "\n",
    "import numpy as np\n",
    "import pandas as pd\n",
    "from pathlib import Path\n",
    "import time, warnings\n",
    "import datetime as dt\n",
    "import matplotlib.pyplot as plt\n",
    "from pandas.plotting import scatter_matrix\n",
    "%matplotlib inline\n",
    "import seaborn as sns\n",
    "from sklearn.cluster import KMeans\n",
    "from sklearn.decomposition import PCA\n",
    "from sklearn.preprocessing import StandardScaler\n",
    "warnings.filterwarnings(\"ignore\")\n",
    "import io"
   ]
  },
  {
   "cell_type": "code",
   "execution_count": 2,
   "metadata": {
    "colab": {
     "base_uri": "https://localhost:8080/",
     "height": 206
    },
    "id": "kYTo6sWbnaxW",
    "outputId": "f72b4bad-85b9-462d-a646-d82583580eb2"
   },
   "outputs": [
    {
     "data": {
      "text/html": [
       "<div>\n",
       "<style scoped>\n",
       "    .dataframe tbody tr th:only-of-type {\n",
       "        vertical-align: middle;\n",
       "    }\n",
       "\n",
       "    .dataframe tbody tr th {\n",
       "        vertical-align: top;\n",
       "    }\n",
       "\n",
       "    .dataframe thead th {\n",
       "        text-align: right;\n",
       "    }\n",
       "</style>\n",
       "<table border=\"1\" class=\"dataframe\">\n",
       "  <thead>\n",
       "    <tr style=\"text-align: right;\">\n",
       "      <th></th>\n",
       "      <th>InvoiceNo</th>\n",
       "      <th>StockCode</th>\n",
       "      <th>Description</th>\n",
       "      <th>Quantity</th>\n",
       "      <th>InvoiceDate</th>\n",
       "      <th>UnitPrice</th>\n",
       "      <th>CustomerID</th>\n",
       "      <th>Country</th>\n",
       "    </tr>\n",
       "  </thead>\n",
       "  <tbody>\n",
       "    <tr>\n",
       "      <th>0</th>\n",
       "      <td>536365</td>\n",
       "      <td>85123A</td>\n",
       "      <td>WHITE HANGING HEART T-LIGHT HOLDER</td>\n",
       "      <td>6</td>\n",
       "      <td>2010-12-01 08:26:00</td>\n",
       "      <td>2.55</td>\n",
       "      <td>17850.0</td>\n",
       "      <td>United Kingdom</td>\n",
       "    </tr>\n",
       "    <tr>\n",
       "      <th>1</th>\n",
       "      <td>536365</td>\n",
       "      <td>71053</td>\n",
       "      <td>WHITE METAL LANTERN</td>\n",
       "      <td>6</td>\n",
       "      <td>2010-12-01 08:26:00</td>\n",
       "      <td>3.39</td>\n",
       "      <td>17850.0</td>\n",
       "      <td>United Kingdom</td>\n",
       "    </tr>\n",
       "    <tr>\n",
       "      <th>2</th>\n",
       "      <td>536365</td>\n",
       "      <td>84406B</td>\n",
       "      <td>CREAM CUPID HEARTS COAT HANGER</td>\n",
       "      <td>8</td>\n",
       "      <td>2010-12-01 08:26:00</td>\n",
       "      <td>2.75</td>\n",
       "      <td>17850.0</td>\n",
       "      <td>United Kingdom</td>\n",
       "    </tr>\n",
       "    <tr>\n",
       "      <th>3</th>\n",
       "      <td>536365</td>\n",
       "      <td>84029G</td>\n",
       "      <td>KNITTED UNION FLAG HOT WATER BOTTLE</td>\n",
       "      <td>6</td>\n",
       "      <td>2010-12-01 08:26:00</td>\n",
       "      <td>3.39</td>\n",
       "      <td>17850.0</td>\n",
       "      <td>United Kingdom</td>\n",
       "    </tr>\n",
       "    <tr>\n",
       "      <th>4</th>\n",
       "      <td>536365</td>\n",
       "      <td>84029E</td>\n",
       "      <td>RED WOOLLY HOTTIE WHITE HEART.</td>\n",
       "      <td>6</td>\n",
       "      <td>2010-12-01 08:26:00</td>\n",
       "      <td>3.39</td>\n",
       "      <td>17850.0</td>\n",
       "      <td>United Kingdom</td>\n",
       "    </tr>\n",
       "  </tbody>\n",
       "</table>\n",
       "</div>"
      ],
      "text/plain": [
       "  InvoiceNo StockCode                          Description  Quantity  \\\n",
       "0    536365    85123A   WHITE HANGING HEART T-LIGHT HOLDER         6   \n",
       "1    536365     71053                  WHITE METAL LANTERN         6   \n",
       "2    536365    84406B       CREAM CUPID HEARTS COAT HANGER         8   \n",
       "3    536365    84029G  KNITTED UNION FLAG HOT WATER BOTTLE         6   \n",
       "4    536365    84029E       RED WOOLLY HOTTIE WHITE HEART.         6   \n",
       "\n",
       "          InvoiceDate  UnitPrice  CustomerID         Country  \n",
       "0 2010-12-01 08:26:00       2.55     17850.0  United Kingdom  \n",
       "1 2010-12-01 08:26:00       3.39     17850.0  United Kingdom  \n",
       "2 2010-12-01 08:26:00       2.75     17850.0  United Kingdom  \n",
       "3 2010-12-01 08:26:00       3.39     17850.0  United Kingdom  \n",
       "4 2010-12-01 08:26:00       3.39     17850.0  United Kingdom  "
      ]
     },
     "execution_count": 2,
     "metadata": {},
     "output_type": "execute_result"
    }
   ],
   "source": [
    "# Read the excel file (with transactional data) into pandas data frame. Please note: It takes few seconds to load, due to high volume of data\n",
    "\n",
    "retail_df = pd.read_excel(Path(\"../Resources/Online_Retail.xlsx\"))\n",
    "retail_df.head()"
   ]
  },
  {
   "cell_type": "code",
   "execution_count": 3,
   "metadata": {},
   "outputs": [
    {
     "data": {
      "text/plain": [
       "(541909, 8)"
      ]
     },
     "execution_count": 3,
     "metadata": {},
     "output_type": "execute_result"
    }
   ],
   "source": [
    "# Check the number of rows/columns\n",
    "retail_df.shape"
   ]
  },
  {
   "cell_type": "code",
   "execution_count": 4,
   "metadata": {
    "id": "5H81gfTi3YAw"
   },
   "outputs": [
    {
     "data": {
      "text/html": [
       "<div>\n",
       "<style scoped>\n",
       "    .dataframe tbody tr th:only-of-type {\n",
       "        vertical-align: middle;\n",
       "    }\n",
       "\n",
       "    .dataframe tbody tr th {\n",
       "        vertical-align: top;\n",
       "    }\n",
       "\n",
       "    .dataframe thead th {\n",
       "        text-align: right;\n",
       "    }\n",
       "</style>\n",
       "<table border=\"1\" class=\"dataframe\">\n",
       "  <thead>\n",
       "    <tr style=\"text-align: right;\">\n",
       "      <th></th>\n",
       "      <th>InvoiceNo</th>\n",
       "      <th>StockCode</th>\n",
       "      <th>Description</th>\n",
       "      <th>Quantity</th>\n",
       "      <th>InvoiceDate</th>\n",
       "      <th>UnitPrice</th>\n",
       "      <th>CustomerID</th>\n",
       "      <th>Country</th>\n",
       "    </tr>\n",
       "  </thead>\n",
       "  <tbody>\n",
       "    <tr>\n",
       "      <th>0</th>\n",
       "      <td>536365</td>\n",
       "      <td>85123A</td>\n",
       "      <td>WHITE HANGING HEART T-LIGHT HOLDER</td>\n",
       "      <td>6</td>\n",
       "      <td>2010-12-01 08:26:00</td>\n",
       "      <td>2.55</td>\n",
       "      <td>17850</td>\n",
       "      <td>United Kingdom</td>\n",
       "    </tr>\n",
       "    <tr>\n",
       "      <th>1</th>\n",
       "      <td>536365</td>\n",
       "      <td>71053</td>\n",
       "      <td>WHITE METAL LANTERN</td>\n",
       "      <td>6</td>\n",
       "      <td>2010-12-01 08:26:00</td>\n",
       "      <td>3.39</td>\n",
       "      <td>17850</td>\n",
       "      <td>United Kingdom</td>\n",
       "    </tr>\n",
       "    <tr>\n",
       "      <th>2</th>\n",
       "      <td>536365</td>\n",
       "      <td>84406B</td>\n",
       "      <td>CREAM CUPID HEARTS COAT HANGER</td>\n",
       "      <td>8</td>\n",
       "      <td>2010-12-01 08:26:00</td>\n",
       "      <td>2.75</td>\n",
       "      <td>17850</td>\n",
       "      <td>United Kingdom</td>\n",
       "    </tr>\n",
       "    <tr>\n",
       "      <th>3</th>\n",
       "      <td>536365</td>\n",
       "      <td>84029G</td>\n",
       "      <td>KNITTED UNION FLAG HOT WATER BOTTLE</td>\n",
       "      <td>6</td>\n",
       "      <td>2010-12-01 08:26:00</td>\n",
       "      <td>3.39</td>\n",
       "      <td>17850</td>\n",
       "      <td>United Kingdom</td>\n",
       "    </tr>\n",
       "    <tr>\n",
       "      <th>4</th>\n",
       "      <td>536365</td>\n",
       "      <td>84029E</td>\n",
       "      <td>RED WOOLLY HOTTIE WHITE HEART.</td>\n",
       "      <td>6</td>\n",
       "      <td>2010-12-01 08:26:00</td>\n",
       "      <td>3.39</td>\n",
       "      <td>17850</td>\n",
       "      <td>United Kingdom</td>\n",
       "    </tr>\n",
       "  </tbody>\n",
       "</table>\n",
       "</div>"
      ],
      "text/plain": [
       "  InvoiceNo StockCode                          Description  Quantity  \\\n",
       "0    536365    85123A   WHITE HANGING HEART T-LIGHT HOLDER         6   \n",
       "1    536365     71053                  WHITE METAL LANTERN         6   \n",
       "2    536365    84406B       CREAM CUPID HEARTS COAT HANGER         8   \n",
       "3    536365    84029G  KNITTED UNION FLAG HOT WATER BOTTLE         6   \n",
       "4    536365    84029E       RED WOOLLY HOTTIE WHITE HEART.         6   \n",
       "\n",
       "          InvoiceDate  UnitPrice  CustomerID         Country  \n",
       "0 2010-12-01 08:26:00       2.55       17850  United Kingdom  \n",
       "1 2010-12-01 08:26:00       3.39       17850  United Kingdom  \n",
       "2 2010-12-01 08:26:00       2.75       17850  United Kingdom  \n",
       "3 2010-12-01 08:26:00       3.39       17850  United Kingdom  \n",
       "4 2010-12-01 08:26:00       3.39       17850  United Kingdom  "
      ]
     },
     "execution_count": 4,
     "metadata": {},
     "output_type": "execute_result"
    }
   ],
   "source": [
    "# Remove negative quantity and missing CustomerID rows\n",
    "retail_df = retail_df[retail_df['Quantity']>0]\n",
    "retail_df.dropna(subset=['CustomerID'],how='all',inplace=True)\n",
    "\n",
    "# Convert CustomerID to an integer\n",
    "retail_df['CustomerID']=retail_df['CustomerID'].astype(int)\n",
    "retail_df.head()"
   ]
  },
  {
   "cell_type": "code",
   "execution_count": 5,
   "metadata": {},
   "outputs": [
    {
     "data": {
      "text/plain": [
       "(397924, 8)"
      ]
     },
     "execution_count": 5,
     "metadata": {},
     "output_type": "execute_result"
    }
   ],
   "source": [
    "# Check the number of rows/columns\n",
    "retail_df.shape"
   ]
  },
  {
   "cell_type": "markdown",
   "metadata": {},
   "source": [
    "# Feature Engineering and Data Transformation"
   ]
  },
  {
   "cell_type": "markdown",
   "metadata": {
    "id": "HeRXNsJtup_5"
   },
   "source": [
    "\n",
    "\n",
    "In order to create a comprehensive customer-centric dataset for clustering and recommendation, the following features can be engineered from the available transactional data.\n",
    "\n",
    "RFM Features\n",
    "\n",
    "RFM is a method used for analyzing customer value and segmenting the customer base. It is an acronym that stands for:\n",
    "\n",
    "Recency (R): This metric indicates how recently a customer has made a purchase. A lower recency value means the customer has purchased more recently, indicating higher engagement with the brand.\n",
    "\n",
    "Frequency (F): This metric signifies how often a customer makes a purchase within a certain period. A higher frequency value indicates a customer who interacts with the business more often, suggesting higher loyalty or satisfaction.\n",
    "\n",
    "Monetary (M): This metric represents the total amount of money a customer has spent over a certain period. Customers who have a higher monetary value have contributed more to the business, indicating their potential high lifetime value.\n",
    "\n",
    "Together, these metrics help in understanding a customer's buying behavior and preferences, which is pivotal in personalizing marketing strategies and creating a recommendation system."
   ]
  },
  {
   "cell_type": "markdown",
   "metadata": {
    "id": "ZN4Qc48aQkyp"
   },
   "source": [
    "**Recency**"
   ]
  },
  {
   "cell_type": "code",
   "execution_count": 6,
   "metadata": {
    "colab": {
     "base_uri": "https://localhost:8080/",
     "height": 206
    },
    "id": "VRLVar6bQt1i",
    "outputId": "b4b2ba08-03de-4160-d864-9996a4bbe604"
   },
   "outputs": [
    {
     "data": {
      "text/html": [
       "<div>\n",
       "<style scoped>\n",
       "    .dataframe tbody tr th:only-of-type {\n",
       "        vertical-align: middle;\n",
       "    }\n",
       "\n",
       "    .dataframe tbody tr th {\n",
       "        vertical-align: top;\n",
       "    }\n",
       "\n",
       "    .dataframe thead th {\n",
       "        text-align: right;\n",
       "    }\n",
       "</style>\n",
       "<table border=\"1\" class=\"dataframe\">\n",
       "  <thead>\n",
       "    <tr style=\"text-align: right;\">\n",
       "      <th></th>\n",
       "      <th>CustomerID</th>\n",
       "      <th>LastPurchaseDate</th>\n",
       "      <th>Recency</th>\n",
       "    </tr>\n",
       "  </thead>\n",
       "  <tbody>\n",
       "    <tr>\n",
       "      <th>0</th>\n",
       "      <td>12346</td>\n",
       "      <td>2011-01-18</td>\n",
       "      <td>325</td>\n",
       "    </tr>\n",
       "    <tr>\n",
       "      <th>1</th>\n",
       "      <td>12347</td>\n",
       "      <td>2011-12-07</td>\n",
       "      <td>2</td>\n",
       "    </tr>\n",
       "    <tr>\n",
       "      <th>2</th>\n",
       "      <td>12348</td>\n",
       "      <td>2011-09-25</td>\n",
       "      <td>75</td>\n",
       "    </tr>\n",
       "    <tr>\n",
       "      <th>3</th>\n",
       "      <td>12349</td>\n",
       "      <td>2011-11-21</td>\n",
       "      <td>18</td>\n",
       "    </tr>\n",
       "    <tr>\n",
       "      <th>4</th>\n",
       "      <td>12350</td>\n",
       "      <td>2011-02-02</td>\n",
       "      <td>310</td>\n",
       "    </tr>\n",
       "  </tbody>\n",
       "</table>\n",
       "</div>"
      ],
      "text/plain": [
       "   CustomerID LastPurchaseDate  Recency\n",
       "0       12346       2011-01-18      325\n",
       "1       12347       2011-12-07        2\n",
       "2       12348       2011-09-25       75\n",
       "3       12349       2011-11-21       18\n",
       "4       12350       2011-02-02      310"
      ]
     },
     "execution_count": 6,
     "metadata": {},
     "output_type": "execute_result"
    }
   ],
   "source": [
    "# Create Recency data frame\n",
    "\n",
    "# Latest Invoice date (most recent) from the data set\n",
    "retail_df['date'] = pd.DatetimeIndex(retail_df['InvoiceDate']).date\n",
    "most_recent = retail_df['date'].max()\n",
    "\n",
    "# Grouping data by 'CustomerID' and finding most recent purchase date for each customer\n",
    "recency = retail_df.groupby(by='CustomerID', as_index=False)['date'].max()\n",
    "recency.columns = ['CustomerID','LastPurchaseDate']\n",
    "\n",
    "# 'Recency' = 'most_recent' - 'LastPurchaseDate'. This shows how many days since last purchase.\n",
    "recency['Recency'] = recency['LastPurchaseDate'].apply(lambda x: (most_recent - x).days)\n",
    "recency.head()"
   ]
  },
  {
   "cell_type": "code",
   "execution_count": 7,
   "metadata": {
    "id": "t85jjXzGRYV6"
   },
   "outputs": [],
   "source": [
    "# Drop the LastPurchaseDate column from the recency data frame\n",
    "recency.drop('LastPurchaseDate',axis=1,inplace=True)"
   ]
  },
  {
   "cell_type": "code",
   "execution_count": 8,
   "metadata": {},
   "outputs": [
    {
     "data": {
      "text/html": [
       "<div>\n",
       "<style scoped>\n",
       "    .dataframe tbody tr th:only-of-type {\n",
       "        vertical-align: middle;\n",
       "    }\n",
       "\n",
       "    .dataframe tbody tr th {\n",
       "        vertical-align: top;\n",
       "    }\n",
       "\n",
       "    .dataframe thead th {\n",
       "        text-align: right;\n",
       "    }\n",
       "</style>\n",
       "<table border=\"1\" class=\"dataframe\">\n",
       "  <thead>\n",
       "    <tr style=\"text-align: right;\">\n",
       "      <th></th>\n",
       "      <th>CustomerID</th>\n",
       "      <th>Recency</th>\n",
       "    </tr>\n",
       "  </thead>\n",
       "  <tbody>\n",
       "    <tr>\n",
       "      <th>0</th>\n",
       "      <td>12346</td>\n",
       "      <td>325</td>\n",
       "    </tr>\n",
       "    <tr>\n",
       "      <th>1</th>\n",
       "      <td>12347</td>\n",
       "      <td>2</td>\n",
       "    </tr>\n",
       "    <tr>\n",
       "      <th>2</th>\n",
       "      <td>12348</td>\n",
       "      <td>75</td>\n",
       "    </tr>\n",
       "    <tr>\n",
       "      <th>3</th>\n",
       "      <td>12349</td>\n",
       "      <td>18</td>\n",
       "    </tr>\n",
       "    <tr>\n",
       "      <th>4</th>\n",
       "      <td>12350</td>\n",
       "      <td>310</td>\n",
       "    </tr>\n",
       "  </tbody>\n",
       "</table>\n",
       "</div>"
      ],
      "text/plain": [
       "   CustomerID  Recency\n",
       "0       12346      325\n",
       "1       12347        2\n",
       "2       12348       75\n",
       "3       12349       18\n",
       "4       12350      310"
      ]
     },
     "execution_count": 8,
     "metadata": {},
     "output_type": "execute_result"
    }
   ],
   "source": [
    "recency.head()"
   ]
  },
  {
   "cell_type": "markdown",
   "metadata": {
    "id": "Oa3e35TPSZ75"
   },
   "source": [
    "**Frequency**"
   ]
  },
  {
   "cell_type": "code",
   "execution_count": 9,
   "metadata": {
    "colab": {
     "base_uri": "https://localhost:8080/",
     "height": 206
    },
    "id": "0EFbIk-eScpS",
    "outputId": "c685309d-85f5-4b26-f3d7-aae426eee4c0"
   },
   "outputs": [
    {
     "data": {
      "text/html": [
       "<div>\n",
       "<style scoped>\n",
       "    .dataframe tbody tr th:only-of-type {\n",
       "        vertical-align: middle;\n",
       "    }\n",
       "\n",
       "    .dataframe tbody tr th {\n",
       "        vertical-align: top;\n",
       "    }\n",
       "\n",
       "    .dataframe thead th {\n",
       "        text-align: right;\n",
       "    }\n",
       "</style>\n",
       "<table border=\"1\" class=\"dataframe\">\n",
       "  <thead>\n",
       "    <tr style=\"text-align: right;\">\n",
       "      <th></th>\n",
       "      <th>CustomerID</th>\n",
       "      <th>Frequency</th>\n",
       "    </tr>\n",
       "  </thead>\n",
       "  <tbody>\n",
       "    <tr>\n",
       "      <th>0</th>\n",
       "      <td>12346</td>\n",
       "      <td>1</td>\n",
       "    </tr>\n",
       "    <tr>\n",
       "      <th>1</th>\n",
       "      <td>12347</td>\n",
       "      <td>7</td>\n",
       "    </tr>\n",
       "    <tr>\n",
       "      <th>2</th>\n",
       "      <td>12348</td>\n",
       "      <td>4</td>\n",
       "    </tr>\n",
       "    <tr>\n",
       "      <th>3</th>\n",
       "      <td>12349</td>\n",
       "      <td>1</td>\n",
       "    </tr>\n",
       "    <tr>\n",
       "      <th>4</th>\n",
       "      <td>12350</td>\n",
       "      <td>1</td>\n",
       "    </tr>\n",
       "  </tbody>\n",
       "</table>\n",
       "</div>"
      ],
      "text/plain": [
       "   CustomerID  Frequency\n",
       "0       12346          1\n",
       "1       12347          7\n",
       "2       12348          4\n",
       "3       12349          1\n",
       "4       12350          1"
      ]
     },
     "execution_count": 9,
     "metadata": {},
     "output_type": "execute_result"
    }
   ],
   "source": [
    "# Remove duplicate invoice number rows for each customer\n",
    "retail_df_copy = retail_df\n",
    "retail_df_copy.drop_duplicates(subset=['InvoiceNo', 'CustomerID'], keep=\"first\", inplace=True)\n",
    "\n",
    "# Counting number of unique 'InvoiceNo' for each customer\n",
    "frequency = retail_df_copy.groupby(by=['CustomerID'], as_index=False)['InvoiceNo'].count()\n",
    "frequency.columns = ['CustomerID','Frequency']\n",
    "frequency.head()"
   ]
  },
  {
   "cell_type": "markdown",
   "metadata": {
    "id": "uCQ0CaIlTekz"
   },
   "source": [
    "**Monetary**"
   ]
  },
  {
   "cell_type": "code",
   "execution_count": 10,
   "metadata": {
    "colab": {
     "base_uri": "https://localhost:8080/",
     "height": 206
    },
    "id": "OLWET-dpTgta",
    "outputId": "9360e4bc-562d-43b6-e8b6-c4f00208bb20"
   },
   "outputs": [
    {
     "data": {
      "text/html": [
       "<div>\n",
       "<style scoped>\n",
       "    .dataframe tbody tr th:only-of-type {\n",
       "        vertical-align: middle;\n",
       "    }\n",
       "\n",
       "    .dataframe tbody tr th {\n",
       "        vertical-align: top;\n",
       "    }\n",
       "\n",
       "    .dataframe thead th {\n",
       "        text-align: right;\n",
       "    }\n",
       "</style>\n",
       "<table border=\"1\" class=\"dataframe\">\n",
       "  <thead>\n",
       "    <tr style=\"text-align: right;\">\n",
       "      <th></th>\n",
       "      <th>CustomerID</th>\n",
       "      <th>Monetary</th>\n",
       "    </tr>\n",
       "  </thead>\n",
       "  <tbody>\n",
       "    <tr>\n",
       "      <th>0</th>\n",
       "      <td>12346</td>\n",
       "      <td>77183.60</td>\n",
       "    </tr>\n",
       "    <tr>\n",
       "      <th>1</th>\n",
       "      <td>12347</td>\n",
       "      <td>163.16</td>\n",
       "    </tr>\n",
       "    <tr>\n",
       "      <th>2</th>\n",
       "      <td>12348</td>\n",
       "      <td>331.36</td>\n",
       "    </tr>\n",
       "    <tr>\n",
       "      <th>3</th>\n",
       "      <td>12349</td>\n",
       "      <td>15.00</td>\n",
       "    </tr>\n",
       "    <tr>\n",
       "      <th>4</th>\n",
       "      <td>12350</td>\n",
       "      <td>25.20</td>\n",
       "    </tr>\n",
       "  </tbody>\n",
       "</table>\n",
       "</div>"
      ],
      "text/plain": [
       "   CustomerID  Monetary\n",
       "0       12346  77183.60\n",
       "1       12347    163.16\n",
       "2       12348    331.36\n",
       "3       12349     15.00\n",
       "4       12350     25.20"
      ]
     },
     "execution_count": 10,
     "metadata": {},
     "output_type": "execute_result"
    }
   ],
   "source": [
    "# Calculate monetory value for each customer\n",
    "\n",
    "retail_df['TotalCost'] = retail_df['Quantity'] * retail_df['UnitPrice']\n",
    "\n",
    "#summing the 'TotalCost' for each customer\n",
    "monetary = retail_df.groupby(by='CustomerID',as_index=False).agg({'TotalCost': 'sum'})\n",
    "monetary.columns = ['CustomerID','Monetary']\n",
    "monetary.head()"
   ]
  },
  {
   "cell_type": "markdown",
   "metadata": {
    "id": "GOO5vmIIUBfb"
   },
   "source": [
    "**RFM Table**"
   ]
  },
  {
   "cell_type": "code",
   "execution_count": 11,
   "metadata": {
    "colab": {
     "base_uri": "https://localhost:8080/",
     "height": 238
    },
    "id": "BpEVicMdUEMc",
    "outputId": "6ac95b6a-22a4-4a63-ceee-e48ddc278dfd"
   },
   "outputs": [
    {
     "data": {
      "text/html": [
       "<div>\n",
       "<style scoped>\n",
       "    .dataframe tbody tr th:only-of-type {\n",
       "        vertical-align: middle;\n",
       "    }\n",
       "\n",
       "    .dataframe tbody tr th {\n",
       "        vertical-align: top;\n",
       "    }\n",
       "\n",
       "    .dataframe thead th {\n",
       "        text-align: right;\n",
       "    }\n",
       "</style>\n",
       "<table border=\"1\" class=\"dataframe\">\n",
       "  <thead>\n",
       "    <tr style=\"text-align: right;\">\n",
       "      <th></th>\n",
       "      <th>Recency</th>\n",
       "      <th>Frequency</th>\n",
       "      <th>Monetary</th>\n",
       "    </tr>\n",
       "    <tr>\n",
       "      <th>CustomerID</th>\n",
       "      <th></th>\n",
       "      <th></th>\n",
       "      <th></th>\n",
       "    </tr>\n",
       "  </thead>\n",
       "  <tbody>\n",
       "    <tr>\n",
       "      <th>12346</th>\n",
       "      <td>325</td>\n",
       "      <td>1</td>\n",
       "      <td>77183.60</td>\n",
       "    </tr>\n",
       "    <tr>\n",
       "      <th>12347</th>\n",
       "      <td>2</td>\n",
       "      <td>7</td>\n",
       "      <td>163.16</td>\n",
       "    </tr>\n",
       "    <tr>\n",
       "      <th>12348</th>\n",
       "      <td>75</td>\n",
       "      <td>4</td>\n",
       "      <td>331.36</td>\n",
       "    </tr>\n",
       "    <tr>\n",
       "      <th>12349</th>\n",
       "      <td>18</td>\n",
       "      <td>1</td>\n",
       "      <td>15.00</td>\n",
       "    </tr>\n",
       "    <tr>\n",
       "      <th>12350</th>\n",
       "      <td>310</td>\n",
       "      <td>1</td>\n",
       "      <td>25.20</td>\n",
       "    </tr>\n",
       "  </tbody>\n",
       "</table>\n",
       "</div>"
      ],
      "text/plain": [
       "            Recency  Frequency  Monetary\n",
       "CustomerID                              \n",
       "12346           325          1  77183.60\n",
       "12347             2          7    163.16\n",
       "12348            75          4    331.36\n",
       "12349            18          1     15.00\n",
       "12350           310          1     25.20"
      ]
     },
     "execution_count": 11,
     "metadata": {},
     "output_type": "execute_result"
    }
   ],
   "source": [
    "# Merge Recency, Frequency and Monetary data frames to create RFM data frame\n",
    "\n",
    "temp = recency.merge(frequency,on='CustomerID')\n",
    "rfm= temp.merge(monetary,on='CustomerID')\n",
    "\n",
    "rfm.set_index('CustomerID',inplace=True)\n",
    "rfm.head()"
   ]
  },
  {
   "cell_type": "code",
   "execution_count": 12,
   "metadata": {},
   "outputs": [
    {
     "data": {
      "text/plain": [
       "4339"
      ]
     },
     "execution_count": 12,
     "metadata": {},
     "output_type": "execute_result"
    }
   ],
   "source": [
    "rfm.shape[0]"
   ]
  },
  {
   "cell_type": "markdown",
   "metadata": {
    "id": "s4-uHDhOUjY1"
   },
   "source": [
    "#### Data Analysis and processing of RFM data frame "
   ]
  },
  {
   "cell_type": "code",
   "execution_count": 13,
   "metadata": {
    "colab": {
     "base_uri": "https://localhost:8080/"
    },
    "id": "_O34Li7Ml-VS",
    "outputId": "53a0260e-c61c-48eb-b663-f2b5404ed46e"
   },
   "outputs": [
    {
     "name": "stdout",
     "output_type": "stream",
     "text": [
      "Number of duplicate rows: 58\n"
     ]
    }
   ],
   "source": [
    "# Counting duplicate rows in RFM table (The values of rows (recency, frequency and monetary together), being same)\n",
    "duplicate_count = rfm.duplicated().sum()\n",
    "print(\"Number of duplicate rows:\", duplicate_count)"
   ]
  },
  {
   "cell_type": "code",
   "execution_count": 14,
   "metadata": {
    "colab": {
     "base_uri": "https://localhost:8080/"
    },
    "id": "2EZMf5tcmAzw",
    "outputId": "e68eac01-54b2-44c1-8293-155c86fb79b9"
   },
   "outputs": [
    {
     "name": "stdout",
     "output_type": "stream",
     "text": [
      "Number of duplicate rows: 0\n"
     ]
    }
   ],
   "source": [
    "# Drop duplicate rows from RFM table\n",
    "rfm.drop_duplicates(inplace=True)\n",
    "\n",
    "# Verify for duplicates if any left\n",
    "duplicate_count_new = rfm.duplicated().sum()\n",
    "print(\"Number of duplicate rows:\", duplicate_count_new)"
   ]
  },
  {
   "cell_type": "code",
   "execution_count": 15,
   "metadata": {
    "colab": {
     "base_uri": "https://localhost:8080/"
    },
    "id": "sKMpEWFomzr4",
    "outputId": "25cfd6f8-09c5-4a93-86a1-0c58ce6b5662"
   },
   "outputs": [
    {
     "name": "stdout",
     "output_type": "stream",
     "text": [
      "Recency      0\n",
      "Frequency    0\n",
      "Monetary     0\n",
      "dtype: int64\n"
     ]
    }
   ],
   "source": [
    "# Verify for null values in RFM table\n",
    "\n",
    "print(rfm.isnull().sum())"
   ]
  },
  {
   "cell_type": "code",
   "execution_count": 16,
   "metadata": {},
   "outputs": [
    {
     "data": {
      "text/plain": [
       "(4281, 3)"
      ]
     },
     "execution_count": 16,
     "metadata": {},
     "output_type": "execute_result"
    }
   ],
   "source": [
    "rfm.shape"
   ]
  },
  {
   "cell_type": "code",
   "execution_count": 17,
   "metadata": {
    "colab": {
     "base_uri": "https://localhost:8080/",
     "height": 300
    },
    "id": "IxSdL6gEUlkT",
    "outputId": "8e611347-cc00-4016-ee34-2476bfa5b46f"
   },
   "outputs": [
    {
     "data": {
      "text/html": [
       "<div>\n",
       "<style scoped>\n",
       "    .dataframe tbody tr th:only-of-type {\n",
       "        vertical-align: middle;\n",
       "    }\n",
       "\n",
       "    .dataframe tbody tr th {\n",
       "        vertical-align: top;\n",
       "    }\n",
       "\n",
       "    .dataframe thead th {\n",
       "        text-align: right;\n",
       "    }\n",
       "</style>\n",
       "<table border=\"1\" class=\"dataframe\">\n",
       "  <thead>\n",
       "    <tr style=\"text-align: right;\">\n",
       "      <th></th>\n",
       "      <th>Recency</th>\n",
       "      <th>Frequency</th>\n",
       "      <th>Monetary</th>\n",
       "    </tr>\n",
       "  </thead>\n",
       "  <tbody>\n",
       "    <tr>\n",
       "      <th>count</th>\n",
       "      <td>4281.000000</td>\n",
       "      <td>4281.000000</td>\n",
       "      <td>4281.000000</td>\n",
       "    </tr>\n",
       "    <tr>\n",
       "      <th>mean</th>\n",
       "      <td>91.407849</td>\n",
       "      <td>4.315814</td>\n",
       "      <td>300.555732</td>\n",
       "    </tr>\n",
       "    <tr>\n",
       "      <th>std</th>\n",
       "      <td>99.460322</td>\n",
       "      <td>7.748214</td>\n",
       "      <td>3149.247340</td>\n",
       "    </tr>\n",
       "    <tr>\n",
       "      <th>min</th>\n",
       "      <td>0.000000</td>\n",
       "      <td>1.000000</td>\n",
       "      <td>0.000000</td>\n",
       "    </tr>\n",
       "    <tr>\n",
       "      <th>25%</th>\n",
       "      <td>17.000000</td>\n",
       "      <td>1.000000</td>\n",
       "      <td>17.850000</td>\n",
       "    </tr>\n",
       "    <tr>\n",
       "      <th>50%</th>\n",
       "      <td>50.000000</td>\n",
       "      <td>2.000000</td>\n",
       "      <td>48.300000</td>\n",
       "    </tr>\n",
       "    <tr>\n",
       "      <th>75%</th>\n",
       "      <td>141.000000</td>\n",
       "      <td>5.000000</td>\n",
       "      <td>132.650000</td>\n",
       "    </tr>\n",
       "    <tr>\n",
       "      <th>max</th>\n",
       "      <td>373.000000</td>\n",
       "      <td>210.000000</td>\n",
       "      <td>168471.250000</td>\n",
       "    </tr>\n",
       "  </tbody>\n",
       "</table>\n",
       "</div>"
      ],
      "text/plain": [
       "           Recency    Frequency       Monetary\n",
       "count  4281.000000  4281.000000    4281.000000\n",
       "mean     91.407849     4.315814     300.555732\n",
       "std      99.460322     7.748214    3149.247340\n",
       "min       0.000000     1.000000       0.000000\n",
       "25%      17.000000     1.000000      17.850000\n",
       "50%      50.000000     2.000000      48.300000\n",
       "75%     141.000000     5.000000     132.650000\n",
       "max     373.000000   210.000000  168471.250000"
      ]
     },
     "execution_count": 17,
     "metadata": {},
     "output_type": "execute_result"
    }
   ],
   "source": [
    "# Describe RFM statistics\n",
    "rfm.describe()"
   ]
  },
  {
   "cell_type": "code",
   "execution_count": 18,
   "metadata": {
    "colab": {
     "base_uri": "https://localhost:8080/",
     "height": 716
    },
    "id": "tckYcEMEY5fl",
    "outputId": "f7532adc-88df-4f0a-9eda-d04f64754943"
   },
   "outputs": [
    {
     "data": {
      "text/plain": [
       "Text(0.5, 1.0, 'Outliers Variable Distribution')"
      ]
     },
     "execution_count": 18,
     "metadata": {},
     "output_type": "execute_result"
    },
    {
     "data": {
      "image/png": "[encoded data removed]",
      "text/plain": [
       "<Figure size 1000x800 with 1 Axes>"
      ]
     },
     "metadata": {},
     "output_type": "display_data"
    }
   ],
   "source": [
    "#Boxplot to see outliers\n",
    "attributes = ['Recency', 'Frequency', 'Monetary']\n",
    "\n",
    "plt.figure(figsize=(10, 8))\n",
    "\n",
    "sns.boxplot(data = rfm[attributes], orient=\"h\", palette=\"Set2\" ,whis=1.5,saturation=1, width=0.7)\n",
    "plt.title(\"Outliers Variable Distribution\", fontsize = 12)"
   ]
  },
  {
   "cell_type": "code",
   "execution_count": 19,
   "metadata": {
    "id": "5meq5MjSicuA"
   },
   "outputs": [],
   "source": [
    "# Removing outliers\n",
    "attributes = ['Recency', 'Frequency', 'Monetary']\n",
    "\n",
    "for attribute in attributes:\n",
    "    # Calculate quartiles and IQR\n",
    "    Q1 = rfm[attribute].quantile(0.05)\n",
    "    Q3 = rfm[attribute].quantile(0.95)\n",
    "    IQR = Q3 - Q1\n",
    "\n",
    "    # Remove outliers\n",
    "    rfm = rfm[(rfm[attribute] >= Q1 - 1.5*IQR) & (rfm[attribute] <= Q3 + 1.5*IQR)]"
   ]
  },
  {
   "cell_type": "code",
   "execution_count": 20,
   "metadata": {},
   "outputs": [
    {
     "data": {
      "text/plain": [
       "(4162, 3)"
      ]
     },
     "execution_count": 20,
     "metadata": {},
     "output_type": "execute_result"
    }
   ],
   "source": [
    "# The rows/columns of the 'rfm' data frame, after removing outliers\n",
    "rfm.shape"
   ]
  },
  {
   "cell_type": "code",
   "execution_count": 21,
   "metadata": {
    "colab": {
     "base_uri": "https://localhost:8080/",
     "height": 699
    },
    "id": "7qp7u6AWpoTE",
    "outputId": "d786f0be-60c1-4dfa-cc6b-5af365b8a715"
   },
   "outputs": [
    {
     "data": {
      "image/png": "[encoded data removed]",
      "text/plain": [
       "<Figure size 800x600 with 2 Axes>"
      ]
     },
     "metadata": {},
     "output_type": "display_data"
    }
   ],
   "source": [
    "# Heatmap to see the RFM variables correlation\n",
    "\n",
    "plt.figure(figsize=(8, 6))\n",
    "sns.heatmap(rfm.corr(), annot=True, center=0, cmap='coolwarm', fmt=\".2f\")\n",
    "# sns.heatmap(rfm.corr(), annot=True, center=0, cmap='coolwarm', fmt=\".2f\",linewidths=2, vmin = -1, vmax = 1)\n",
    "plt.title('Heatmap of Correlation Matrix for RFM Data')\n",
    "plt.show()"
   ]
  },
  {
   "cell_type": "markdown",
   "metadata": {},
   "source": [
    "It looks like Frequency and Monetary are correlated. So, PCA is a good tool to address this, but both PCA and KMeans Clustering can be skewed with the unscaled data. So we will scale the data in the next steps."
   ]
  },
  {
   "cell_type": "code",
   "execution_count": 22,
   "metadata": {},
   "outputs": [],
   "source": [
    "# Create a data frame with the cleaned RFM data\n",
    "rfm_cluster = pd.DataFrame(data=rfm)"
   ]
  },
  {
   "cell_type": "markdown",
   "metadata": {},
   "source": [
    "### Feature Scaling"
   ]
  },
  {
   "cell_type": "code",
   "execution_count": 23,
   "metadata": {},
   "outputs": [],
   "source": [
    "# Standardize the features\n",
    "\n",
    "rfm_cluster_scaled = StandardScaler().fit_transform(rfm_cluster)\n"
   ]
  },
  {
   "cell_type": "code",
   "execution_count": 24,
   "metadata": {},
   "outputs": [
    {
     "data": {
      "text/plain": [
       "array([[-0.91309705,  0.86940432,  0.28827128],\n",
       "       [-0.18141626,  0.09540201,  1.21894139],\n",
       "       [-0.75272865, -0.67860029, -0.53151519],\n",
       "       ...,\n",
       "       [-0.86298192, -0.42059952, -0.40287024],\n",
       "       [-0.90307402,  3.19141125, -0.24517644],\n",
       "       [-0.51217607, -0.16259875, -0.1696494 ]])"
      ]
     },
     "execution_count": 24,
     "metadata": {},
     "output_type": "execute_result"
    }
   ],
   "source": [
    "rfm_cluster_scaled"
   ]
  },
  {
   "cell_type": "markdown",
   "metadata": {
    "id": "_c_i8I2-N3QP"
   },
   "source": [
    "# PCA / K-means Clustering"
   ]
  },
  {
   "cell_type": "markdown",
   "metadata": {
    "id": "2Ig-VFRYnWqA"
   },
   "source": [
    "Applying PCA with 2 dimensions"
   ]
  },
  {
   "cell_type": "code",
   "execution_count": 25,
   "metadata": {
    "id": "l9Xl7ZprnUc7"
   },
   "outputs": [],
   "source": [
    "# Instantiate PCA\n",
    "pca = PCA(n_components=2)\n",
    "\n",
    "# Fit PCA to features\n",
    "principal_components = pca.fit_transform(rfm_cluster_scaled)\n"
   ]
  },
  {
   "cell_type": "code",
   "execution_count": 26,
   "metadata": {},
   "outputs": [
    {
     "data": {
      "text/plain": [
       "array([0.60563992, 0.27198328])"
      ]
     },
     "execution_count": 26,
     "metadata": {},
     "output_type": "execute_result"
    }
   ],
   "source": [
    "# Calculate the PCA explained variance ratio\n",
    "pca.explained_variance_ratio_"
   ]
  },
  {
   "cell_type": "markdown",
   "metadata": {},
   "source": [
    "About 87% of variance is captured by the two PCA variables."
   ]
  },
  {
   "cell_type": "code",
   "execution_count": 27,
   "metadata": {},
   "outputs": [
    {
     "data": {
      "text/html": [
       "<div>\n",
       "<style scoped>\n",
       "    .dataframe tbody tr th:only-of-type {\n",
       "        vertical-align: middle;\n",
       "    }\n",
       "\n",
       "    .dataframe tbody tr th {\n",
       "        vertical-align: top;\n",
       "    }\n",
       "\n",
       "    .dataframe thead th {\n",
       "        text-align: right;\n",
       "    }\n",
       "</style>\n",
       "<table border=\"1\" class=\"dataframe\">\n",
       "  <thead>\n",
       "    <tr style=\"text-align: right;\">\n",
       "      <th></th>\n",
       "      <th>PCA1</th>\n",
       "      <th>PCA2</th>\n",
       "    </tr>\n",
       "  </thead>\n",
       "  <tbody>\n",
       "    <tr>\n",
       "      <th>0</th>\n",
       "      <td>1.163553</td>\n",
       "      <td>-0.512843</td>\n",
       "    </tr>\n",
       "    <tr>\n",
       "      <th>1</th>\n",
       "      <td>0.874431</td>\n",
       "      <td>0.476671</td>\n",
       "    </tr>\n",
       "    <tr>\n",
       "      <th>2</th>\n",
       "      <td>-0.416147</td>\n",
       "      <td>-1.002388</td>\n",
       "    </tr>\n",
       "    <tr>\n",
       "      <th>3</th>\n",
       "      <td>-1.730850</td>\n",
       "      <td>1.517209</td>\n",
       "    </tr>\n",
       "    <tr>\n",
       "      <th>4</th>\n",
       "      <td>2.409353</td>\n",
       "      <td>0.859212</td>\n",
       "    </tr>\n",
       "  </tbody>\n",
       "</table>\n",
       "</div>"
      ],
      "text/plain": [
       "       PCA1      PCA2\n",
       "0  1.163553 -0.512843\n",
       "1  0.874431  0.476671\n",
       "2 -0.416147 -1.002388\n",
       "3 -1.730850  1.517209\n",
       "4  2.409353  0.859212"
      ]
     },
     "execution_count": 27,
     "metadata": {},
     "output_type": "execute_result"
    }
   ],
   "source": [
    "# Create a DataFrame with the principal components\n",
    "pca_df = pd.DataFrame(data=principal_components, columns=['PCA1', 'PCA2'])\n",
    "pca_df.head()"
   ]
  },
  {
   "cell_type": "markdown",
   "metadata": {
    "id": "yYXB5zfOgLVy"
   },
   "source": [
    "Determine optimal number of K using PCA data frame and utilizing Elbow Method\n"
   ]
  },
  {
   "cell_type": "code",
   "execution_count": 28,
   "metadata": {
    "colab": {
     "base_uri": "https://localhost:8080/",
     "height": 564
    },
    "id": "S_CgjYTygOHA",
    "outputId": "4cb442b0-285f-4b5a-c39f-c0c1a27d5581"
   },
   "outputs": [
    {
     "data": {
      "image/png": "[encoded data removed]",
      "text/plain": [
       "<Figure size 1000x600 with 1 Axes>"
      ]
     },
     "metadata": {},
     "output_type": "display_data"
    }
   ],
   "source": [
    "# Create a a list to store inertia values and the values of k\n",
    "wcss = []\n",
    "\n",
    "# Create a for-loop where each value of k is evaluated using the K-means algorithm\n",
    "# Fit the model using the PCA DataFrame\n",
    "# Append the value of the computed inertia from the `inertia_` attribute of the KMeans model instance\n",
    "\n",
    "for i in range(1, 11):\n",
    "    kmeans = KMeans(n_clusters=i, init='k-means++', random_state=42)\n",
    "    kmeans.fit(pca_df)\n",
    "    wcss.append(kmeans.inertia_)\n",
    "\n",
    "# Plot the elbow curve\n",
    "plt.figure(figsize=(10, 6))\n",
    "plt.plot(range(1, 11), wcss, marker='o', linestyle='-', color='b')\n",
    "plt.title('Elbow Method')\n",
    "plt.xlabel('Number of Clusters')\n",
    "plt.ylabel('Within-Cluster Sum of Squares (WCSS)')\n",
    "plt.xticks(range(1, 11))\n",
    "plt.grid(True)\n",
    "plt.show()"
   ]
  },
  {
   "cell_type": "markdown",
   "metadata": {
    "id": "8oi-PkHpnf8W"
   },
   "source": [
    "The elbow appears to be at the point 5, after which the inertia starts decreasing linearly. So, the optimal K=5."
   ]
  },
  {
   "cell_type": "markdown",
   "metadata": {
    "id": "evZEARxsncwh"
   },
   "source": [
    "KMeans Clustering"
   ]
  },
  {
   "cell_type": "code",
   "execution_count": 29,
   "metadata": {
    "colab": {
     "base_uri": "https://localhost:8080/",
     "height": 564
    },
    "id": "0uuuD-LuhutK",
    "outputId": "d10e5102-af78-4fe9-ddc3-20f620399d08"
   },
   "outputs": [
    {
     "data": {
      "image/png": "[encoded data removed]",
      "text/plain": [
       "<Figure size 1000x600 with 1 Axes>"
      ]
     },
     "metadata": {},
     "output_type": "display_data"
    }
   ],
   "source": [
    "# Segment the PCA data frame using KMeans algorithm\n",
    "kmeans = KMeans(n_clusters=5)\n",
    "kmeans.fit(pca_df)\n",
    "\n",
    "# Add column 'Cluster' to the pca_df, with cluster labels\n",
    "pca_df['Cluster'] = kmeans.labels_\n",
    "\n",
    "#Plot PCA Clustering\n",
    "plt.figure(figsize=(10, 6))\n",
    "sns.scatterplot(data=pca_df, x='PCA1', y='PCA2', hue='Cluster', palette='viridis')\n",
    "plt.title('KMeans Clustering with PCA components')\n",
    "plt.xlabel('Principal Component 1')\n",
    "plt.ylabel('Principal Component 2')\n",
    "plt.show()"
   ]
  },
  {
   "cell_type": "code",
   "execution_count": 30,
   "metadata": {},
   "outputs": [
    {
     "data": {
      "text/html": [
       "<div>\n",
       "<style scoped>\n",
       "    .dataframe tbody tr th:only-of-type {\n",
       "        vertical-align: middle;\n",
       "    }\n",
       "\n",
       "    .dataframe tbody tr th {\n",
       "        vertical-align: top;\n",
       "    }\n",
       "\n",
       "    .dataframe thead th {\n",
       "        text-align: right;\n",
       "    }\n",
       "</style>\n",
       "<table border=\"1\" class=\"dataframe\">\n",
       "  <thead>\n",
       "    <tr style=\"text-align: right;\">\n",
       "      <th></th>\n",
       "      <th>PCA1</th>\n",
       "      <th>PCA2</th>\n",
       "      <th>Cluster</th>\n",
       "    </tr>\n",
       "  </thead>\n",
       "  <tbody>\n",
       "    <tr>\n",
       "      <th>0</th>\n",
       "      <td>1.163553</td>\n",
       "      <td>-0.512843</td>\n",
       "      <td>3</td>\n",
       "    </tr>\n",
       "    <tr>\n",
       "      <th>1</th>\n",
       "      <td>0.874431</td>\n",
       "      <td>0.476671</td>\n",
       "      <td>3</td>\n",
       "    </tr>\n",
       "    <tr>\n",
       "      <th>2</th>\n",
       "      <td>-0.416147</td>\n",
       "      <td>-1.002388</td>\n",
       "      <td>1</td>\n",
       "    </tr>\n",
       "    <tr>\n",
       "      <th>3</th>\n",
       "      <td>-1.730850</td>\n",
       "      <td>1.517209</td>\n",
       "      <td>0</td>\n",
       "    </tr>\n",
       "    <tr>\n",
       "      <th>4</th>\n",
       "      <td>2.409353</td>\n",
       "      <td>0.859212</td>\n",
       "      <td>4</td>\n",
       "    </tr>\n",
       "  </tbody>\n",
       "</table>\n",
       "</div>"
      ],
      "text/plain": [
       "       PCA1      PCA2  Cluster\n",
       "0  1.163553 -0.512843        3\n",
       "1  0.874431  0.476671        3\n",
       "2 -0.416147 -1.002388        1\n",
       "3 -1.730850  1.517209        0\n",
       "4  2.409353  0.859212        4"
      ]
     },
     "execution_count": 30,
     "metadata": {},
     "output_type": "execute_result"
    }
   ],
   "source": [
    "pca_df.head()"
   ]
  },
  {
   "cell_type": "code",
   "execution_count": 31,
   "metadata": {
    "colab": {
     "base_uri": "https://localhost:8080/"
    },
    "id": "4N_Tszgfh6L7",
    "outputId": "3b6f1bf9-c26a-4acc-d0da-5584edeaf0be"
   },
   "outputs": [
    {
     "name": "stdout",
     "output_type": "stream",
     "text": [
      "Mean values for each cluster:\n",
      "            Recency  Frequency    Monetary\n",
      "Cluster                                   \n",
      "0        253.176471   1.468524   48.760268\n",
      "1         54.860920   2.004759   38.146372\n",
      "2         17.458716  16.816514  847.333303\n",
      "3         30.068886   5.564868  142.692319\n",
      "4         32.046584   9.984472  391.947050\n"
     ]
    }
   ],
   "source": [
    "# Calculate mean values for each cluster\n",
    "rfm_cluster['Cluster'] = kmeans.labels_\n",
    "cluster_means = rfm_cluster.groupby('Cluster').mean()\n",
    "\n",
    "print(\"Mean values for each cluster:\")\n",
    "print(cluster_means)"
   ]
  },
  {
   "cell_type": "code",
   "execution_count": 32,
   "metadata": {
    "colab": {
     "base_uri": "https://localhost:8080/",
     "height": 427
    },
    "id": "4oQzcgvKjAXn",
    "outputId": "a9f90637-c853-4b9c-a03c-ad7c302cc577"
   },
   "outputs": [
    {
     "data": {
      "image/png": "[encoded data removed]",
      "text/plain": [
       "<Figure size 1600x400 with 3 Axes>"
      ]
     },
     "metadata": {},
     "output_type": "display_data"
    }
   ],
   "source": [
    "# Plot the RFM mean values among the clusters\n",
    "\n",
    "fig, axes = plt.subplots(1, 3, figsize=(16, 4))\n",
    "\n",
    "# Create catplot 'Recency'\n",
    "sns.violinplot(data=rfm_cluster, x=\"Cluster\", y=\"Recency\", hue=\"Cluster\", ax=axes[0])\n",
    "axes[0].set_title('Recency')\n",
    "\n",
    "# Create catplot 'Frequency'\n",
    "sns.violinplot(data=rfm_cluster, x=\"Cluster\", y=\"Frequency\", hue=\"Cluster\", ax=axes[1])\n",
    "axes[1].set_title('Frequency')\n",
    "\n",
    "# Create catplot 'Monetary'\n",
    "sns.violinplot(data=rfm_cluster, x=\"Cluster\", y=\"Monetary\", hue=\"Cluster\", ax=axes[2])\n",
    "axes[2].set_title('Monetary')\n",
    "\n",
    "plt.tight_layout()\n",
    "plt.show()"
   ]
  },
  {
   "cell_type": "markdown",
   "metadata": {
    "id": "HckvTwSSpfeh"
   },
   "source": [
    "* Cluster 0: **Frequent Shoppers**\n",
    "Recency: 30.15, Frequency: 5.70, Monetary: 148.25.\n",
    "Customers who shop frequently with moderate to High spending. They engage often and spend moderately.\n",
    "\n",
    "* Cluster 1: **Occasional Shoppers**\n",
    "Recency: 54.15, Frequency: 2.04, Monetary: 39.10.\n",
    "Customers with recent but infrequent purchases and low spending.\n",
    "\n",
    "* Cluster 2: **Inactive Shoppers**\n",
    "Recency: 252.71, Frequency: 1.47, Monetary: 49.27.\n",
    "Customers who haven't been active for an extended period, with no recent purchases.\n",
    "\n",
    "* Cluster 3: **Regular Shoppers**\n",
    "Recency: 31.32, Frequency: 10.19, Monetary: 398.47.\n",
    "Customers who shop regularly, with recent purchases. Moderate frequency and  moderate spending.\n",
    "\n",
    "* Cluster 4 : **High-Value Loyal Shoppers**\n",
    "Recency: 17.60, Frequency: 16.78, Monetary: 852.17.\n",
    "VIP Customers who shop very often and spend significantly.They engage frequently and spend generously.\n",
    "\n",
    "PLEASE NOTE: Every time the script is run, the above values can change with clusters, which is the KMeans algorithm behaviour, as the starting points of centroids is different each time.  "
   ]
  },
  {
   "cell_type": "code",
   "execution_count": 33,
   "metadata": {
    "id": "hTtWA9vls988"
   },
   "outputs": [],
   "source": [
    "rfm['Cluster'] = kmeans.labels_"
   ]
  },
  {
   "cell_type": "code",
   "execution_count": 34,
   "metadata": {
    "colab": {
     "base_uri": "https://localhost:8080/"
    },
    "id": "z0dNv5GptKQn",
    "outputId": "55661cd9-ff4c-4073-d7c1-e6ee0ef3baa6"
   },
   "outputs": [
    {
     "name": "stdout",
     "output_type": "stream",
     "text": [
      "            Recency  Frequency  Monetary  Cluster                    Segment\n",
      "CustomerID                                                                  \n",
      "12347             2          7    163.16        3           Regular Shoppers\n",
      "12348            75          4    331.36        3           Regular Shoppers\n",
      "12349            18          1     15.00        1        Occasional Shoppers\n",
      "12350           310          1     25.20        0          Frequent Shoppers\n",
      "12352            36          8    536.30        4  High-Value Loyal Shoppers\n",
      "...             ...        ...       ...      ...                        ...\n",
      "18280           277          1     23.70        0          Frequent Shoppers\n",
      "18281           180          1      5.04        0          Frequent Shoppers\n",
      "18282             7          2     38.25        1        Occasional Shoppers\n",
      "18283             3         16     66.75        4  High-Value Loyal Shoppers\n",
      "18287            42          3     80.40        1        Occasional Shoppers\n",
      "\n",
      "[4162 rows x 5 columns]\n"
     ]
    }
   ],
   "source": [
    "# Assign segment names for each cluster. Note: This is based on the mean values obtained in the previous step. It can vary each time it is run.\n",
    "\n",
    "segment_names = {\n",
    "    0: 'Frequent Shoppers',\n",
    "    1: 'Occasional Shoppers',\n",
    "    2: 'Inactive Shoppers',\n",
    "    3: 'Regular Shoppers',\n",
    "    4: 'High-Value Loyal Shoppers' }\n",
    "\n",
    "# Map the cluster values to segment names\n",
    "rfm['Segment'] = rfm['Cluster'].map(segment_names)\n",
    "print(rfm)"
   ]
  },
  {
   "cell_type": "markdown",
   "metadata": {},
   "source": [
    "* Let’s visualize the distribution of the different clusters using a donut chart:"
   ]
  },
  {
   "cell_type": "code",
   "execution_count": 35,
   "metadata": {
    "colab": {
     "base_uri": "https://localhost:8080/",
     "height": 521
    },
    "id": "59HA_rAa1bEB",
    "outputId": "0ca98bd1-f4a9-4c1a-de47-f545d1e9e98f"
   },
   "outputs": [
    {
     "data": {
      "image/png": "[encoded data removed]",
      "text/plain": [
       "<Figure size 1000x600 with 1 Axes>"
      ]
     },
     "metadata": {},
     "output_type": "display_data"
    }
   ],
   "source": [
    "# Plot the segments distribution\n",
    "\n",
    "segment_counts = rfm['Segment'].value_counts()\n",
    "\n",
    "# Legend\n",
    "legend_labels = [f'{segment} ({count})' for segment, count in segment_counts.items()]\n",
    "\n",
    "plt.figure(figsize=(10, 6))\n",
    "explode = (0.05, 0.05, 0.05, 0.05, 0.05)\n",
    "\n",
    "# Pie Chart\n",
    "plt.pie(segment_counts, labels=segment_counts.index, autopct='%1.1f%%', startangle=140, colors=sns.color_palette('muted', len(segment_counts)),explode=explode)\n",
    "plt.title('Distribution of Customer Segments')\n",
    "plt.axis('equal')\n",
    "\n",
    "# Draw circle\n",
    "centre_circle = plt.Circle((0, 0), 0.70, fc='white')\n",
    "fig = plt.gcf()\n",
    "\n",
    "# Adding Circle in Pie chart\n",
    "fig.gca().add_artist(centre_circle)\n",
    "\n",
    "plt.show()"
   ]
  },
  {
   "cell_type": "code",
   "execution_count": 36,
   "metadata": {
    "id": "mOQht5I28RgP"
   },
   "outputs": [],
   "source": [
    "# Export Customer segments to an excel file\n",
    "\n",
    "rfm.to_csv(\"Customer_Segments.csv\")"
   ]
  },
  {
   "cell_type": "markdown",
   "metadata": {},
   "source": [
    "### Recommendation for Marketing Campaign"
   ]
  },
  {
   "cell_type": "markdown",
   "metadata": {},
   "source": [
    "Here are some examples of how we can tailor marketing efforts—to target customers in each segment—to enhance customer engagement and retention:\n",
    "\n",
    "**For High Value/Loyal Customers**: Offer personalized special discounts, early access, and other premium perks to make them feel valued and appreciated.\n",
    "\n",
    "**For Frequent/Regular Customers**: Appreciation campaigns, referral bonuses, and rewards for loyalty.\n",
    "\n",
    "**For Occasional Customers**: Re-engagement efforts that include running discounts or promotions to encourage buying.\n",
    "\n",
    "**For Inactive Customers**: Targeted campaigns educating them about the brand and discounts on subsequent purchases.\n",
    "\n"
   ]
  },
  {
   "cell_type": "markdown",
   "metadata": {},
   "source": [
    "### Recommendation of Products for each customer"
   ]
  },
  {
   "cell_type": "markdown",
   "metadata": {},
   "source": [
    "Using the above segmentations, we can make products recommendation to customers. Here are the steps to implement that:\n",
    "\n",
    "1. Identify which customerIDs belong in each cluster.\n",
    "2. Add the cluster ID to each transaction.\n",
    "2. Find top selling products grouped by cluster.\n",
    "3. For each customer, determine which top selling products in their cluster that they have not purchased.\n",
    "\n"
   ]
  },
  {
   "cell_type": "markdown",
   "metadata": {},
   "source": [
    "Match CustomerIDs with clusters"
   ]
  },
  {
   "cell_type": "code",
   "execution_count": 37,
   "metadata": {},
   "outputs": [
    {
     "data": {
      "text/plain": [
       "Cluster\n",
       "1    1891\n",
       "0     969\n",
       "3     871\n",
       "4     322\n",
       "2     109\n",
       "Name: count, dtype: int64"
      ]
     },
     "execution_count": 37,
     "metadata": {},
     "output_type": "execute_result"
    }
   ],
   "source": [
    "cluster = pd.Series(kmeans.labels_, index=rfm.index, name='Cluster')\n",
    "cluster.value_counts()"
   ]
  },
  {
   "cell_type": "markdown",
   "metadata": {},
   "source": [
    "Cluster ID mapping to each Transaction"
   ]
  },
  {
   "cell_type": "code",
   "execution_count": 38,
   "metadata": {},
   "outputs": [
    {
     "data": {
      "text/html": [
       "<div>\n",
       "<style scoped>\n",
       "    .dataframe tbody tr th:only-of-type {\n",
       "        vertical-align: middle;\n",
       "    }\n",
       "\n",
       "    .dataframe tbody tr th {\n",
       "        vertical-align: top;\n",
       "    }\n",
       "\n",
       "    .dataframe thead th {\n",
       "        text-align: right;\n",
       "    }\n",
       "</style>\n",
       "<table border=\"1\" class=\"dataframe\">\n",
       "  <thead>\n",
       "    <tr style=\"text-align: right;\">\n",
       "      <th></th>\n",
       "      <th>InvoiceNo</th>\n",
       "      <th>StockCode</th>\n",
       "      <th>Description</th>\n",
       "      <th>Quantity</th>\n",
       "      <th>InvoiceDate</th>\n",
       "      <th>UnitPrice</th>\n",
       "      <th>CustomerID</th>\n",
       "      <th>Country</th>\n",
       "      <th>date</th>\n",
       "      <th>TotalCost</th>\n",
       "      <th>Recency</th>\n",
       "      <th>Frequency</th>\n",
       "      <th>Monetary</th>\n",
       "      <th>Cluster</th>\n",
       "      <th>Segment</th>\n",
       "    </tr>\n",
       "  </thead>\n",
       "  <tbody>\n",
       "    <tr>\n",
       "      <th>0</th>\n",
       "      <td>536367</td>\n",
       "      <td>84879</td>\n",
       "      <td>ASSORTED COLOUR BIRD ORNAMENT</td>\n",
       "      <td>32</td>\n",
       "      <td>2010-12-01 08:34:00</td>\n",
       "      <td>1.69</td>\n",
       "      <td>13047</td>\n",
       "      <td>United Kingdom</td>\n",
       "      <td>2010-12-01</td>\n",
       "      <td>54.08</td>\n",
       "      <td>31</td>\n",
       "      <td>10</td>\n",
       "      <td>203.53</td>\n",
       "      <td>4</td>\n",
       "      <td>High-Value Loyal Shoppers</td>\n",
       "    </tr>\n",
       "    <tr>\n",
       "      <th>1</th>\n",
       "      <td>536368</td>\n",
       "      <td>22960</td>\n",
       "      <td>JAM MAKING SET WITH JARS</td>\n",
       "      <td>6</td>\n",
       "      <td>2010-12-01 08:34:00</td>\n",
       "      <td>4.25</td>\n",
       "      <td>13047</td>\n",
       "      <td>United Kingdom</td>\n",
       "      <td>2010-12-01</td>\n",
       "      <td>25.50</td>\n",
       "      <td>31</td>\n",
       "      <td>10</td>\n",
       "      <td>203.53</td>\n",
       "      <td>4</td>\n",
       "      <td>High-Value Loyal Shoppers</td>\n",
       "    </tr>\n",
       "    <tr>\n",
       "      <th>2</th>\n",
       "      <td>536369</td>\n",
       "      <td>21756</td>\n",
       "      <td>BATH BUILDING BLOCK WORD</td>\n",
       "      <td>3</td>\n",
       "      <td>2010-12-01 08:35:00</td>\n",
       "      <td>5.95</td>\n",
       "      <td>13047</td>\n",
       "      <td>United Kingdom</td>\n",
       "      <td>2010-12-01</td>\n",
       "      <td>17.85</td>\n",
       "      <td>31</td>\n",
       "      <td>10</td>\n",
       "      <td>203.53</td>\n",
       "      <td>4</td>\n",
       "      <td>High-Value Loyal Shoppers</td>\n",
       "    </tr>\n",
       "    <tr>\n",
       "      <th>3</th>\n",
       "      <td>543113</td>\n",
       "      <td>16161P</td>\n",
       "      <td>WRAP ENGLISH ROSE</td>\n",
       "      <td>25</td>\n",
       "      <td>2011-02-03 13:06:00</td>\n",
       "      <td>0.42</td>\n",
       "      <td>13047</td>\n",
       "      <td>United Kingdom</td>\n",
       "      <td>2011-02-03</td>\n",
       "      <td>10.50</td>\n",
       "      <td>31</td>\n",
       "      <td>10</td>\n",
       "      <td>203.53</td>\n",
       "      <td>4</td>\n",
       "      <td>High-Value Loyal Shoppers</td>\n",
       "    </tr>\n",
       "    <tr>\n",
       "      <th>4</th>\n",
       "      <td>548331</td>\n",
       "      <td>22960</td>\n",
       "      <td>JAM MAKING SET WITH JARS</td>\n",
       "      <td>6</td>\n",
       "      <td>2011-03-30 13:28:00</td>\n",
       "      <td>4.25</td>\n",
       "      <td>13047</td>\n",
       "      <td>United Kingdom</td>\n",
       "      <td>2011-03-30</td>\n",
       "      <td>25.50</td>\n",
       "      <td>31</td>\n",
       "      <td>10</td>\n",
       "      <td>203.53</td>\n",
       "      <td>4</td>\n",
       "      <td>High-Value Loyal Shoppers</td>\n",
       "    </tr>\n",
       "    <tr>\n",
       "      <th>10</th>\n",
       "      <td>536370</td>\n",
       "      <td>22728</td>\n",
       "      <td>ALARM CLOCK BAKELIKE PINK</td>\n",
       "      <td>24</td>\n",
       "      <td>2010-12-01 08:45:00</td>\n",
       "      <td>3.75</td>\n",
       "      <td>12583</td>\n",
       "      <td>France</td>\n",
       "      <td>2010-12-01</td>\n",
       "      <td>90.00</td>\n",
       "      <td>2</td>\n",
       "      <td>15</td>\n",
       "      <td>617.80</td>\n",
       "      <td>2</td>\n",
       "      <td>Inactive Shoppers</td>\n",
       "    </tr>\n",
       "    <tr>\n",
       "      <th>11</th>\n",
       "      <td>540455</td>\n",
       "      <td>21086</td>\n",
       "      <td>SET/6 RED SPOTTY PAPER CUPS</td>\n",
       "      <td>12</td>\n",
       "      <td>2011-01-07 12:07:00</td>\n",
       "      <td>0.65</td>\n",
       "      <td>12583</td>\n",
       "      <td>France</td>\n",
       "      <td>2011-01-07</td>\n",
       "      <td>7.80</td>\n",
       "      <td>2</td>\n",
       "      <td>15</td>\n",
       "      <td>617.80</td>\n",
       "      <td>2</td>\n",
       "      <td>Inactive Shoppers</td>\n",
       "    </tr>\n",
       "    <tr>\n",
       "      <th>12</th>\n",
       "      <td>543625</td>\n",
       "      <td>22540</td>\n",
       "      <td>MINI JIGSAW CIRCUS PARADE</td>\n",
       "      <td>72</td>\n",
       "      <td>2011-02-10 15:38:00</td>\n",
       "      <td>0.42</td>\n",
       "      <td>12583</td>\n",
       "      <td>France</td>\n",
       "      <td>2011-02-10</td>\n",
       "      <td>30.24</td>\n",
       "      <td>2</td>\n",
       "      <td>15</td>\n",
       "      <td>617.80</td>\n",
       "      <td>2</td>\n",
       "      <td>Inactive Shoppers</td>\n",
       "    </tr>\n",
       "    <tr>\n",
       "      <th>13</th>\n",
       "      <td>546373</td>\n",
       "      <td>23007</td>\n",
       "      <td>SPACEBOY BABY GIFT SET</td>\n",
       "      <td>6</td>\n",
       "      <td>2011-03-11 12:00:00</td>\n",
       "      <td>14.95</td>\n",
       "      <td>12583</td>\n",
       "      <td>France</td>\n",
       "      <td>2011-03-11</td>\n",
       "      <td>89.70</td>\n",
       "      <td>2</td>\n",
       "      <td>15</td>\n",
       "      <td>617.80</td>\n",
       "      <td>2</td>\n",
       "      <td>Inactive Shoppers</td>\n",
       "    </tr>\n",
       "    <tr>\n",
       "      <th>14</th>\n",
       "      <td>554134</td>\n",
       "      <td>23280</td>\n",
       "      <td>FOLDING BUTTERFLY MIRROR HOT PINK</td>\n",
       "      <td>24</td>\n",
       "      <td>2011-05-23 09:48:00</td>\n",
       "      <td>0.83</td>\n",
       "      <td>12583</td>\n",
       "      <td>France</td>\n",
       "      <td>2011-05-23</td>\n",
       "      <td>19.92</td>\n",
       "      <td>2</td>\n",
       "      <td>15</td>\n",
       "      <td>617.80</td>\n",
       "      <td>2</td>\n",
       "      <td>Inactive Shoppers</td>\n",
       "    </tr>\n",
       "    <tr>\n",
       "      <th>25</th>\n",
       "      <td>536371</td>\n",
       "      <td>22086</td>\n",
       "      <td>PAPER CHAIN KIT 50'S CHRISTMAS</td>\n",
       "      <td>80</td>\n",
       "      <td>2010-12-01 09:00:00</td>\n",
       "      <td>2.55</td>\n",
       "      <td>13748</td>\n",
       "      <td>United Kingdom</td>\n",
       "      <td>2010-12-01</td>\n",
       "      <td>204.00</td>\n",
       "      <td>95</td>\n",
       "      <td>5</td>\n",
       "      <td>255.41</td>\n",
       "      <td>3</td>\n",
       "      <td>Regular Shoppers</td>\n",
       "    </tr>\n",
       "    <tr>\n",
       "      <th>26</th>\n",
       "      <td>549190</td>\n",
       "      <td>22843</td>\n",
       "      <td>BISCUIT TIN VINTAGE GREEN</td>\n",
       "      <td>2</td>\n",
       "      <td>2011-04-07 10:13:00</td>\n",
       "      <td>6.75</td>\n",
       "      <td>13748</td>\n",
       "      <td>United Kingdom</td>\n",
       "      <td>2011-04-07</td>\n",
       "      <td>13.50</td>\n",
       "      <td>95</td>\n",
       "      <td>5</td>\n",
       "      <td>255.41</td>\n",
       "      <td>3</td>\n",
       "      <td>Regular Shoppers</td>\n",
       "    </tr>\n",
       "    <tr>\n",
       "      <th>27</th>\n",
       "      <td>550923</td>\n",
       "      <td>22423</td>\n",
       "      <td>REGENCY CAKESTAND 3 TIER</td>\n",
       "      <td>1</td>\n",
       "      <td>2011-04-21 14:30:00</td>\n",
       "      <td>12.75</td>\n",
       "      <td>13748</td>\n",
       "      <td>United Kingdom</td>\n",
       "      <td>2011-04-21</td>\n",
       "      <td>12.75</td>\n",
       "      <td>95</td>\n",
       "      <td>5</td>\n",
       "      <td>255.41</td>\n",
       "      <td>3</td>\n",
       "      <td>Regular Shoppers</td>\n",
       "    </tr>\n",
       "    <tr>\n",
       "      <th>28</th>\n",
       "      <td>565463</td>\n",
       "      <td>23378</td>\n",
       "      <td>PACK OF 12 50'S CHRISTMAS TISSUES</td>\n",
       "      <td>24</td>\n",
       "      <td>2011-09-05 09:45:00</td>\n",
       "      <td>0.39</td>\n",
       "      <td>13748</td>\n",
       "      <td>United Kingdom</td>\n",
       "      <td>2011-09-05</td>\n",
       "      <td>9.36</td>\n",
       "      <td>95</td>\n",
       "      <td>5</td>\n",
       "      <td>255.41</td>\n",
       "      <td>3</td>\n",
       "      <td>Regular Shoppers</td>\n",
       "    </tr>\n",
       "    <tr>\n",
       "      <th>29</th>\n",
       "      <td>565464</td>\n",
       "      <td>23013</td>\n",
       "      <td>GLASS APOTHECARY BOTTLE TONIC</td>\n",
       "      <td>4</td>\n",
       "      <td>2011-09-05 09:45:00</td>\n",
       "      <td>3.95</td>\n",
       "      <td>13748</td>\n",
       "      <td>United Kingdom</td>\n",
       "      <td>2011-09-05</td>\n",
       "      <td>15.80</td>\n",
       "      <td>95</td>\n",
       "      <td>5</td>\n",
       "      <td>255.41</td>\n",
       "      <td>3</td>\n",
       "      <td>Regular Shoppers</td>\n",
       "    </tr>\n",
       "    <tr>\n",
       "      <th>76</th>\n",
       "      <td>536384</td>\n",
       "      <td>82484</td>\n",
       "      <td>WOOD BLACK BOARD ANT WHITE FINISH</td>\n",
       "      <td>3</td>\n",
       "      <td>2010-12-01 09:53:00</td>\n",
       "      <td>6.45</td>\n",
       "      <td>18074</td>\n",
       "      <td>United Kingdom</td>\n",
       "      <td>2010-12-01</td>\n",
       "      <td>19.35</td>\n",
       "      <td>373</td>\n",
       "      <td>1</td>\n",
       "      <td>19.35</td>\n",
       "      <td>0</td>\n",
       "      <td>Frequent Shoppers</td>\n",
       "    </tr>\n",
       "    <tr>\n",
       "      <th>77</th>\n",
       "      <td>536385</td>\n",
       "      <td>22783</td>\n",
       "      <td>SET 3 WICKER OVAL BASKETS W LIDS</td>\n",
       "      <td>1</td>\n",
       "      <td>2010-12-01 09:56:00</td>\n",
       "      <td>19.95</td>\n",
       "      <td>17420</td>\n",
       "      <td>United Kingdom</td>\n",
       "      <td>2010-12-01</td>\n",
       "      <td>19.95</td>\n",
       "      <td>50</td>\n",
       "      <td>3</td>\n",
       "      <td>60.65</td>\n",
       "      <td>1</td>\n",
       "      <td>Occasional Shoppers</td>\n",
       "    </tr>\n",
       "    <tr>\n",
       "      <th>78</th>\n",
       "      <td>557632</td>\n",
       "      <td>22487</td>\n",
       "      <td>WHITE WOOD GARDEN PLANT LADDER</td>\n",
       "      <td>2</td>\n",
       "      <td>2011-06-21 15:07:00</td>\n",
       "      <td>9.95</td>\n",
       "      <td>17420</td>\n",
       "      <td>United Kingdom</td>\n",
       "      <td>2011-06-21</td>\n",
       "      <td>19.90</td>\n",
       "      <td>50</td>\n",
       "      <td>3</td>\n",
       "      <td>60.65</td>\n",
       "      <td>1</td>\n",
       "      <td>Occasional Shoppers</td>\n",
       "    </tr>\n",
       "    <tr>\n",
       "      <th>79</th>\n",
       "      <td>572094</td>\n",
       "      <td>23203</td>\n",
       "      <td>JUMBO BAG VINTAGE DOILY</td>\n",
       "      <td>10</td>\n",
       "      <td>2011-10-20 14:52:00</td>\n",
       "      <td>2.08</td>\n",
       "      <td>17420</td>\n",
       "      <td>United Kingdom</td>\n",
       "      <td>2011-10-20</td>\n",
       "      <td>20.80</td>\n",
       "      <td>50</td>\n",
       "      <td>3</td>\n",
       "      <td>60.65</td>\n",
       "      <td>1</td>\n",
       "      <td>Occasional Shoppers</td>\n",
       "    </tr>\n",
       "    <tr>\n",
       "      <th>80</th>\n",
       "      <td>536388</td>\n",
       "      <td>21754</td>\n",
       "      <td>HOME BUILDING BLOCK WORD</td>\n",
       "      <td>3</td>\n",
       "      <td>2010-12-01 09:59:00</td>\n",
       "      <td>5.95</td>\n",
       "      <td>16250</td>\n",
       "      <td>United Kingdom</td>\n",
       "      <td>2010-12-01</td>\n",
       "      <td>17.85</td>\n",
       "      <td>261</td>\n",
       "      <td>2</td>\n",
       "      <td>26.35</td>\n",
       "      <td>0</td>\n",
       "      <td>Frequent Shoppers</td>\n",
       "    </tr>\n",
       "    <tr>\n",
       "      <th>81</th>\n",
       "      <td>547535</td>\n",
       "      <td>20719</td>\n",
       "      <td>WOODLAND CHARLOTTE BAG</td>\n",
       "      <td>10</td>\n",
       "      <td>2011-03-23 15:07:00</td>\n",
       "      <td>0.85</td>\n",
       "      <td>16250</td>\n",
       "      <td>United Kingdom</td>\n",
       "      <td>2011-03-23</td>\n",
       "      <td>8.50</td>\n",
       "      <td>261</td>\n",
       "      <td>2</td>\n",
       "      <td>26.35</td>\n",
       "      <td>0</td>\n",
       "      <td>Frequent Shoppers</td>\n",
       "    </tr>\n",
       "    <tr>\n",
       "      <th>97</th>\n",
       "      <td>536392</td>\n",
       "      <td>22150</td>\n",
       "      <td>3 STRIPEY MICE FELTCRAFT</td>\n",
       "      <td>6</td>\n",
       "      <td>2010-12-01 10:29:00</td>\n",
       "      <td>1.95</td>\n",
       "      <td>13705</td>\n",
       "      <td>United Kingdom</td>\n",
       "      <td>2010-12-01</td>\n",
       "      <td>11.70</td>\n",
       "      <td>7</td>\n",
       "      <td>3</td>\n",
       "      <td>51.60</td>\n",
       "      <td>1</td>\n",
       "      <td>Occasional Shoppers</td>\n",
       "    </tr>\n",
       "    <tr>\n",
       "      <th>98</th>\n",
       "      <td>560284</td>\n",
       "      <td>23032</td>\n",
       "      <td>DRAWER KNOB CRACKLE GLAZE IVORY</td>\n",
       "      <td>6</td>\n",
       "      <td>2011-07-18 09:15:00</td>\n",
       "      <td>1.65</td>\n",
       "      <td>13705</td>\n",
       "      <td>United Kingdom</td>\n",
       "      <td>2011-07-18</td>\n",
       "      <td>9.90</td>\n",
       "      <td>7</td>\n",
       "      <td>3</td>\n",
       "      <td>51.60</td>\n",
       "      <td>1</td>\n",
       "      <td>Occasional Shoppers</td>\n",
       "    </tr>\n",
       "    <tr>\n",
       "      <th>100</th>\n",
       "      <td>536393</td>\n",
       "      <td>22180</td>\n",
       "      <td>RETROSPOT LAMP</td>\n",
       "      <td>8</td>\n",
       "      <td>2010-12-01 10:37:00</td>\n",
       "      <td>9.95</td>\n",
       "      <td>13747</td>\n",
       "      <td>United Kingdom</td>\n",
       "      <td>2010-12-01</td>\n",
       "      <td>79.60</td>\n",
       "      <td>373</td>\n",
       "      <td>1</td>\n",
       "      <td>79.60</td>\n",
       "      <td>0</td>\n",
       "      <td>Frequent Shoppers</td>\n",
       "    </tr>\n",
       "    <tr>\n",
       "      <th>137</th>\n",
       "      <td>536403</td>\n",
       "      <td>22867</td>\n",
       "      <td>HAND WARMER BIRD DESIGN</td>\n",
       "      <td>96</td>\n",
       "      <td>2010-12-01 11:27:00</td>\n",
       "      <td>1.85</td>\n",
       "      <td>12791</td>\n",
       "      <td>Netherlands</td>\n",
       "      <td>2010-12-01</td>\n",
       "      <td>177.60</td>\n",
       "      <td>373</td>\n",
       "      <td>1</td>\n",
       "      <td>177.60</td>\n",
       "      <td>0</td>\n",
       "      <td>Frequent Shoppers</td>\n",
       "    </tr>\n",
       "  </tbody>\n",
       "</table>\n",
       "</div>"
      ],
      "text/plain": [
       "    InvoiceNo StockCode                         Description  Quantity  \\\n",
       "0      536367     84879       ASSORTED COLOUR BIRD ORNAMENT        32   \n",
       "1      536368     22960            JAM MAKING SET WITH JARS         6   \n",
       "2      536369     21756            BATH BUILDING BLOCK WORD         3   \n",
       "3      543113    16161P                  WRAP ENGLISH ROSE         25   \n",
       "4      548331     22960            JAM MAKING SET WITH JARS         6   \n",
       "10     536370     22728           ALARM CLOCK BAKELIKE PINK        24   \n",
       "11     540455     21086         SET/6 RED SPOTTY PAPER CUPS        12   \n",
       "12     543625     22540          MINI JIGSAW CIRCUS PARADE         72   \n",
       "13     546373     23007              SPACEBOY BABY GIFT SET         6   \n",
       "14     554134     23280  FOLDING BUTTERFLY MIRROR HOT PINK         24   \n",
       "25     536371     22086     PAPER CHAIN KIT 50'S CHRISTMAS         80   \n",
       "26     549190     22843           BISCUIT TIN VINTAGE GREEN         2   \n",
       "27     550923     22423            REGENCY CAKESTAND 3 TIER         1   \n",
       "28     565463     23378   PACK OF 12 50'S CHRISTMAS TISSUES        24   \n",
       "29     565464     23013       GLASS APOTHECARY BOTTLE TONIC         4   \n",
       "76     536384     82484   WOOD BLACK BOARD ANT WHITE FINISH         3   \n",
       "77     536385     22783    SET 3 WICKER OVAL BASKETS W LIDS         1   \n",
       "78     557632     22487      WHITE WOOD GARDEN PLANT LADDER         2   \n",
       "79     572094     23203            JUMBO BAG VINTAGE DOILY         10   \n",
       "80     536388     21754            HOME BUILDING BLOCK WORD         3   \n",
       "81     547535     20719              WOODLAND CHARLOTTE BAG        10   \n",
       "97     536392     22150            3 STRIPEY MICE FELTCRAFT         6   \n",
       "98     560284     23032     DRAWER KNOB CRACKLE GLAZE IVORY         6   \n",
       "100    536393     22180                      RETROSPOT LAMP         8   \n",
       "137    536403     22867             HAND WARMER BIRD DESIGN        96   \n",
       "\n",
       "            InvoiceDate  UnitPrice  CustomerID         Country        date  \\\n",
       "0   2010-12-01 08:34:00       1.69       13047  United Kingdom  2010-12-01   \n",
       "1   2010-12-01 08:34:00       4.25       13047  United Kingdom  2010-12-01   \n",
       "2   2010-12-01 08:35:00       5.95       13047  United Kingdom  2010-12-01   \n",
       "3   2011-02-03 13:06:00       0.42       13047  United Kingdom  2011-02-03   \n",
       "4   2011-03-30 13:28:00       4.25       13047  United Kingdom  2011-03-30   \n",
       "10  2010-12-01 08:45:00       3.75       12583          France  2010-12-01   \n",
       "11  2011-01-07 12:07:00       0.65       12583          France  2011-01-07   \n",
       "12  2011-02-10 15:38:00       0.42       12583          France  2011-02-10   \n",
       "13  2011-03-11 12:00:00      14.95       12583          France  2011-03-11   \n",
       "14  2011-05-23 09:48:00       0.83       12583          France  2011-05-23   \n",
       "25  2010-12-01 09:00:00       2.55       13748  United Kingdom  2010-12-01   \n",
       "26  2011-04-07 10:13:00       6.75       13748  United Kingdom  2011-04-07   \n",
       "27  2011-04-21 14:30:00      12.75       13748  United Kingdom  2011-04-21   \n",
       "28  2011-09-05 09:45:00       0.39       13748  United Kingdom  2011-09-05   \n",
       "29  2011-09-05 09:45:00       3.95       13748  United Kingdom  2011-09-05   \n",
       "76  2010-12-01 09:53:00       6.45       18074  United Kingdom  2010-12-01   \n",
       "77  2010-12-01 09:56:00      19.95       17420  United Kingdom  2010-12-01   \n",
       "78  2011-06-21 15:07:00       9.95       17420  United Kingdom  2011-06-21   \n",
       "79  2011-10-20 14:52:00       2.08       17420  United Kingdom  2011-10-20   \n",
       "80  2010-12-01 09:59:00       5.95       16250  United Kingdom  2010-12-01   \n",
       "81  2011-03-23 15:07:00       0.85       16250  United Kingdom  2011-03-23   \n",
       "97  2010-12-01 10:29:00       1.95       13705  United Kingdom  2010-12-01   \n",
       "98  2011-07-18 09:15:00       1.65       13705  United Kingdom  2011-07-18   \n",
       "100 2010-12-01 10:37:00       9.95       13747  United Kingdom  2010-12-01   \n",
       "137 2010-12-01 11:27:00       1.85       12791     Netherlands  2010-12-01   \n",
       "\n",
       "     TotalCost  Recency  Frequency  Monetary  Cluster  \\\n",
       "0        54.08       31         10    203.53        4   \n",
       "1        25.50       31         10    203.53        4   \n",
       "2        17.85       31         10    203.53        4   \n",
       "3        10.50       31         10    203.53        4   \n",
       "4        25.50       31         10    203.53        4   \n",
       "10       90.00        2         15    617.80        2   \n",
       "11        7.80        2         15    617.80        2   \n",
       "12       30.24        2         15    617.80        2   \n",
       "13       89.70        2         15    617.80        2   \n",
       "14       19.92        2         15    617.80        2   \n",
       "25      204.00       95          5    255.41        3   \n",
       "26       13.50       95          5    255.41        3   \n",
       "27       12.75       95          5    255.41        3   \n",
       "28        9.36       95          5    255.41        3   \n",
       "29       15.80       95          5    255.41        3   \n",
       "76       19.35      373          1     19.35        0   \n",
       "77       19.95       50          3     60.65        1   \n",
       "78       19.90       50          3     60.65        1   \n",
       "79       20.80       50          3     60.65        1   \n",
       "80       17.85      261          2     26.35        0   \n",
       "81        8.50      261          2     26.35        0   \n",
       "97       11.70        7          3     51.60        1   \n",
       "98        9.90        7          3     51.60        1   \n",
       "100      79.60      373          1     79.60        0   \n",
       "137     177.60      373          1    177.60        0   \n",
       "\n",
       "                       Segment  \n",
       "0    High-Value Loyal Shoppers  \n",
       "1    High-Value Loyal Shoppers  \n",
       "2    High-Value Loyal Shoppers  \n",
       "3    High-Value Loyal Shoppers  \n",
       "4    High-Value Loyal Shoppers  \n",
       "10           Inactive Shoppers  \n",
       "11           Inactive Shoppers  \n",
       "12           Inactive Shoppers  \n",
       "13           Inactive Shoppers  \n",
       "14           Inactive Shoppers  \n",
       "25            Regular Shoppers  \n",
       "26            Regular Shoppers  \n",
       "27            Regular Shoppers  \n",
       "28            Regular Shoppers  \n",
       "29            Regular Shoppers  \n",
       "76           Frequent Shoppers  \n",
       "77         Occasional Shoppers  \n",
       "78         Occasional Shoppers  \n",
       "79         Occasional Shoppers  \n",
       "80           Frequent Shoppers  \n",
       "81           Frequent Shoppers  \n",
       "97         Occasional Shoppers  \n",
       "98         Occasional Shoppers  \n",
       "100          Frequent Shoppers  \n",
       "137          Frequent Shoppers  "
      ]
     },
     "execution_count": 38,
     "metadata": {},
     "output_type": "execute_result"
    }
   ],
   "source": [
    "# Add cluster data to the original trasaction data and create a data frame for recommendations\n",
    "\n",
    "rec_df = pd.merge(left=retail_df, right=rfm, how='inner', # only keep rows if we have a cluster associated with the customer id\n",
    "                  on='CustomerID')\n",
    "\n",
    "rec_df.groupby('Cluster').head()\n"
   ]
  },
  {
   "cell_type": "markdown",
   "metadata": {},
   "source": [
    "Top selling products by Cluster"
   ]
  },
  {
   "cell_type": "code",
   "execution_count": 39,
   "metadata": {},
   "outputs": [
    {
     "data": {
      "text/html": [
       "<div>\n",
       "<style scoped>\n",
       "    .dataframe tbody tr th:only-of-type {\n",
       "        vertical-align: middle;\n",
       "    }\n",
       "\n",
       "    .dataframe tbody tr th {\n",
       "        vertical-align: top;\n",
       "    }\n",
       "\n",
       "    .dataframe thead th {\n",
       "        text-align: right;\n",
       "    }\n",
       "</style>\n",
       "<table border=\"1\" class=\"dataframe\">\n",
       "  <thead>\n",
       "    <tr style=\"text-align: right;\">\n",
       "      <th></th>\n",
       "      <th>Cluster</th>\n",
       "      <th>StockCode</th>\n",
       "      <th>Quantity</th>\n",
       "    </tr>\n",
       "  </thead>\n",
       "  <tbody>\n",
       "    <tr>\n",
       "      <th>658</th>\n",
       "      <td>0</td>\n",
       "      <td>84077</td>\n",
       "      <td>3456</td>\n",
       "    </tr>\n",
       "    <tr>\n",
       "      <th>664</th>\n",
       "      <td>0</td>\n",
       "      <td>84568</td>\n",
       "      <td>1728</td>\n",
       "    </tr>\n",
       "    <tr>\n",
       "      <th>732</th>\n",
       "      <td>0</td>\n",
       "      <td>75049L</td>\n",
       "      <td>864</td>\n",
       "    </tr>\n",
       "    <tr>\n",
       "      <th>2121</th>\n",
       "      <td>1</td>\n",
       "      <td>84826</td>\n",
       "      <td>12540</td>\n",
       "    </tr>\n",
       "    <tr>\n",
       "      <th>810</th>\n",
       "      <td>1</td>\n",
       "      <td>16045</td>\n",
       "      <td>1700</td>\n",
       "    </tr>\n",
       "    <tr>\n",
       "      <th>1449</th>\n",
       "      <td>1</td>\n",
       "      <td>22578</td>\n",
       "      <td>495</td>\n",
       "    </tr>\n",
       "    <tr>\n",
       "      <th>2331</th>\n",
       "      <td>2</td>\n",
       "      <td>16014</td>\n",
       "      <td>3500</td>\n",
       "    </tr>\n",
       "    <tr>\n",
       "      <th>2861</th>\n",
       "      <td>2</td>\n",
       "      <td>23084</td>\n",
       "      <td>2430</td>\n",
       "    </tr>\n",
       "    <tr>\n",
       "      <th>2551</th>\n",
       "      <td>2</td>\n",
       "      <td>22151</td>\n",
       "      <td>1776</td>\n",
       "    </tr>\n",
       "    <tr>\n",
       "      <th>3209</th>\n",
       "      <td>3</td>\n",
       "      <td>17096</td>\n",
       "      <td>2019</td>\n",
       "    </tr>\n",
       "    <tr>\n",
       "      <th>4590</th>\n",
       "      <td>3</td>\n",
       "      <td>84879</td>\n",
       "      <td>1542</td>\n",
       "    </tr>\n",
       "    <tr>\n",
       "      <th>3206</th>\n",
       "      <td>3</td>\n",
       "      <td>17003</td>\n",
       "      <td>1071</td>\n",
       "    </tr>\n",
       "    <tr>\n",
       "      <th>4826</th>\n",
       "      <td>4</td>\n",
       "      <td>18007</td>\n",
       "      <td>5586</td>\n",
       "    </tr>\n",
       "    <tr>\n",
       "      <th>4813</th>\n",
       "      <td>4</td>\n",
       "      <td>15036</td>\n",
       "      <td>1944</td>\n",
       "    </tr>\n",
       "    <tr>\n",
       "      <th>4824</th>\n",
       "      <td>4</td>\n",
       "      <td>17003</td>\n",
       "      <td>1848</td>\n",
       "    </tr>\n",
       "  </tbody>\n",
       "</table>\n",
       "</div>"
      ],
      "text/plain": [
       "      Cluster StockCode  Quantity\n",
       "658         0     84077      3456\n",
       "664         0     84568      1728\n",
       "732         0    75049L       864\n",
       "2121        1     84826     12540\n",
       "810         1     16045      1700\n",
       "1449        1     22578       495\n",
       "2331        2     16014      3500\n",
       "2861        2     23084      2430\n",
       "2551        2     22151      1776\n",
       "3209        3     17096      2019\n",
       "4590        3     84879      1542\n",
       "3206        3     17003      1071\n",
       "4826        4     18007      5586\n",
       "4813        4     15036      1944\n",
       "4824        4     17003      1848"
      ]
     },
     "execution_count": 39,
     "metadata": {},
     "output_type": "execute_result"
    }
   ],
   "source": [
    "# Group products by cluster and find total quantity of each stock code sold\n",
    "top_products = rec_df.groupby(['Cluster', 'StockCode'])['Quantity'].sum().reset_index()\n",
    "# Sort data by cluster, then by total quantity sold, with higher quantities at the top\n",
    "top_products = (top_products.sort_values(['Cluster', 'Quantity'], ascending=[True, False])\n",
    "                # Group sales by cluster\n",
    "                .groupby('Cluster'))\n",
    "top_products.head(3) "
   ]
  },
  {
   "cell_type": "markdown",
   "metadata": {},
   "source": [
    "Determination of products recommendation to each customer"
   ]
  },
  {
   "cell_type": "code",
   "execution_count": 40,
   "metadata": {},
   "outputs": [
    {
     "data": {
      "text/html": [
       "<div>\n",
       "<style scoped>\n",
       "    .dataframe tbody tr th:only-of-type {\n",
       "        vertical-align: middle;\n",
       "    }\n",
       "\n",
       "    .dataframe tbody tr th {\n",
       "        vertical-align: top;\n",
       "    }\n",
       "\n",
       "    .dataframe thead th {\n",
       "        text-align: right;\n",
       "    }\n",
       "</style>\n",
       "<table border=\"1\" class=\"dataframe\">\n",
       "  <thead>\n",
       "    <tr style=\"text-align: right;\">\n",
       "      <th></th>\n",
       "      <th>Cluster</th>\n",
       "      <th>StockCode0</th>\n",
       "      <th>StockCode1</th>\n",
       "      <th>StockCode2</th>\n",
       "    </tr>\n",
       "    <tr>\n",
       "      <th>CustomerID</th>\n",
       "      <th></th>\n",
       "      <th></th>\n",
       "      <th></th>\n",
       "      <th></th>\n",
       "    </tr>\n",
       "  </thead>\n",
       "  <tbody>\n",
       "    <tr>\n",
       "      <th>12347</th>\n",
       "      <td>3</td>\n",
       "      <td>17096</td>\n",
       "      <td>84879</td>\n",
       "      <td>17003</td>\n",
       "    </tr>\n",
       "    <tr>\n",
       "      <th>12348</th>\n",
       "      <td>3</td>\n",
       "      <td>17096</td>\n",
       "      <td>84879</td>\n",
       "      <td>17003</td>\n",
       "    </tr>\n",
       "    <tr>\n",
       "      <th>12349</th>\n",
       "      <td>1</td>\n",
       "      <td>84826</td>\n",
       "      <td>16045</td>\n",
       "      <td>22578</td>\n",
       "    </tr>\n",
       "    <tr>\n",
       "      <th>12350</th>\n",
       "      <td>0</td>\n",
       "      <td>84077</td>\n",
       "      <td>84568</td>\n",
       "      <td>75049L</td>\n",
       "    </tr>\n",
       "    <tr>\n",
       "      <th>12352</th>\n",
       "      <td>4</td>\n",
       "      <td>18007</td>\n",
       "      <td>15036</td>\n",
       "      <td>17003</td>\n",
       "    </tr>\n",
       "    <tr>\n",
       "      <th>12353</th>\n",
       "      <td>0</td>\n",
       "      <td>84077</td>\n",
       "      <td>84568</td>\n",
       "      <td>75049L</td>\n",
       "    </tr>\n",
       "    <tr>\n",
       "      <th>12354</th>\n",
       "      <td>0</td>\n",
       "      <td>84077</td>\n",
       "      <td>84568</td>\n",
       "      <td>75049L</td>\n",
       "    </tr>\n",
       "    <tr>\n",
       "      <th>12355</th>\n",
       "      <td>0</td>\n",
       "      <td>84077</td>\n",
       "      <td>84568</td>\n",
       "      <td>75049L</td>\n",
       "    </tr>\n",
       "    <tr>\n",
       "      <th>12356</th>\n",
       "      <td>3</td>\n",
       "      <td>17096</td>\n",
       "      <td>84879</td>\n",
       "      <td>17003</td>\n",
       "    </tr>\n",
       "    <tr>\n",
       "      <th>12357</th>\n",
       "      <td>1</td>\n",
       "      <td>84826</td>\n",
       "      <td>16045</td>\n",
       "      <td>22578</td>\n",
       "    </tr>\n",
       "    <tr>\n",
       "      <th>12358</th>\n",
       "      <td>3</td>\n",
       "      <td>17096</td>\n",
       "      <td>84879</td>\n",
       "      <td>17003</td>\n",
       "    </tr>\n",
       "    <tr>\n",
       "      <th>12359</th>\n",
       "      <td>1</td>\n",
       "      <td>84826</td>\n",
       "      <td>16045</td>\n",
       "      <td>22578</td>\n",
       "    </tr>\n",
       "    <tr>\n",
       "      <th>12360</th>\n",
       "      <td>1</td>\n",
       "      <td>84826</td>\n",
       "      <td>16045</td>\n",
       "      <td>22578</td>\n",
       "    </tr>\n",
       "    <tr>\n",
       "      <th>12361</th>\n",
       "      <td>0</td>\n",
       "      <td>84077</td>\n",
       "      <td>84568</td>\n",
       "      <td>75049L</td>\n",
       "    </tr>\n",
       "    <tr>\n",
       "      <th>12362</th>\n",
       "      <td>4</td>\n",
       "      <td>18007</td>\n",
       "      <td>15036</td>\n",
       "      <td>17003</td>\n",
       "    </tr>\n",
       "    <tr>\n",
       "      <th>12363</th>\n",
       "      <td>1</td>\n",
       "      <td>84826</td>\n",
       "      <td>16045</td>\n",
       "      <td>22578</td>\n",
       "    </tr>\n",
       "    <tr>\n",
       "      <th>12364</th>\n",
       "      <td>3</td>\n",
       "      <td>17096</td>\n",
       "      <td>84879</td>\n",
       "      <td>17003</td>\n",
       "    </tr>\n",
       "    <tr>\n",
       "      <th>12365</th>\n",
       "      <td>0</td>\n",
       "      <td>84077</td>\n",
       "      <td>84568</td>\n",
       "      <td>75049L</td>\n",
       "    </tr>\n",
       "    <tr>\n",
       "      <th>12367</th>\n",
       "      <td>1</td>\n",
       "      <td>84826</td>\n",
       "      <td>16045</td>\n",
       "      <td>22578</td>\n",
       "    </tr>\n",
       "    <tr>\n",
       "      <th>12370</th>\n",
       "      <td>3</td>\n",
       "      <td>17096</td>\n",
       "      <td>84879</td>\n",
       "      <td>17003</td>\n",
       "    </tr>\n",
       "  </tbody>\n",
       "</table>\n",
       "</div>"
      ],
      "text/plain": [
       "            Cluster  StockCode0 StockCode1 StockCode2\n",
       "CustomerID                                           \n",
       "12347             3       17096      84879      17003\n",
       "12348             3       17096      84879      17003\n",
       "12349             1       84826      16045      22578\n",
       "12350             0       84077      84568     75049L\n",
       "12352             4       18007      15036      17003\n",
       "12353             0       84077      84568     75049L\n",
       "12354             0       84077      84568     75049L\n",
       "12355             0       84077      84568     75049L\n",
       "12356             3       17096      84879      17003\n",
       "12357             1       84826      16045      22578\n",
       "12358             3       17096      84879      17003\n",
       "12359             1       84826      16045      22578\n",
       "12360             1       84826      16045      22578\n",
       "12361             0       84077      84568     75049L\n",
       "12362             4       18007      15036      17003\n",
       "12363             1       84826      16045      22578\n",
       "12364             3       17096      84879      17003\n",
       "12365             0       84077      84568     75049L\n",
       "12367             1       84826      16045      22578\n",
       "12370             3       17096      84879      17003"
      ]
     },
     "execution_count": 40,
     "metadata": {},
     "output_type": "execute_result"
    }
   ],
   "source": [
    "# Create a dictionary of columns needed for recommendation\n",
    "recs = {'CustomerID': [],\n",
    "        'Cluster': [],\n",
    "        'StockCode0': [],\n",
    "        'StockCode1': [],\n",
    "        'StockCode2': []}\n",
    "\n",
    "# group purchases by customer so we don't need to do this inside the loop\n",
    "customer_purchases = rec_df.groupby('CustomerID')\n",
    "\n",
    "for id in cluster.index:\n",
    "    recs['CustomerID'].append(id)\n",
    "    this_cluster = cluster.loc[id]\n",
    "    recs['Cluster'].append(this_cluster)\n",
    "    # get the stock codes this customer has purchased\n",
    "    purchases = customer_purchases.get_group(id)['StockCode'].drop_duplicates()\n",
    "    # get top selling products for this cluster\n",
    "    cluster_products = top_products.get_group(this_cluster).iloc[:10,:]\n",
    "    # find top selling products that the customer has not purchased\n",
    "    suggested_products = cluster_products[~cluster_products['StockCode'].isin(purchases)].reset_index()\n",
    "    # Handle cases where customer has purchased almost all of the recommended products\n",
    "    for i in range(3):\n",
    "        try:\n",
    "            recs[f'StockCode{i}'].append(suggested_products.loc[i,'StockCode'])\n",
    "        except KeyError:\n",
    "            recs[f'StockCode{i}'].append(0)\n",
    "\n",
    "customer_recs = pd.DataFrame(recs).set_index('CustomerID')\n",
    "customer_recs.head(20) "
   ]
  },
  {
   "cell_type": "code",
   "execution_count": 41,
   "metadata": {},
   "outputs": [],
   "source": [
    "# Export Product Recommendations\n",
    "\n",
    "customer_recs.to_csv(\"Products_Recommendation.csv\")"
   ]
  },
  {
   "cell_type": "code",
   "execution_count": null,
   "metadata": {},
   "outputs": [],
   "source": []
  }
 ],
 "metadata": {
  "colab": {
   "provenance": []
  },
  "kernelspec": {
   "display_name": "Python 3 (ipykernel)",
   "language": "python",
   "name": "python3"
  },
  "language_info": {
   "codemirror_mode": {
    "name": "ipython",
    "version": 3
   },
   "file_extension": ".py",
   "mimetype": "text/x-python",
   "name": "python",
   "nbconvert_exporter": "python",
   "pygments_lexer": "ipython3",
   "version": "3.11.5"
  }
 },
 "nbformat": 4,
 "nbformat_minor": 1
}
